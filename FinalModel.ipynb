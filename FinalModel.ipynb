{
 "cells": [
  {
   "cell_type": "code",
   "execution_count": 1,
   "metadata": {},
   "outputs": [],
   "source": [
    "import pandas as pd\n",
    "import numpy as np\n",
    "from sklearn.linear_model import LinearRegression, HuberRegressor\n",
    "from sklearn.model_selection import train_test_split\n",
    "from sklearn.metrics import mean_absolute_error\n",
    "from sklearn.ensemble import RandomForestRegressor"
   ]
  },
  {
   "cell_type": "code",
   "execution_count": 2,
   "metadata": {},
   "outputs": [],
   "source": [
    "data = pd.read_csv(\"data\\\\flights_train.csv\")\n",
    "testData = pd.read_csv(\"data\\\\flights_test.csv\")\n",
    "airportData = pd.read_csv('data\\\\airports.csv', low_memory=False)"
   ]
  },
  {
   "cell_type": "code",
   "execution_count": 3,
   "metadata": {},
   "outputs": [],
   "source": [
    "testModelData = data\n",
    "# Add departure hour\n",
    "testModelData['SCHEDULED_DEPARTURE'] = testModelData['SCHEDULED_DEPARTURE'].apply('{:0>4}'.format)\n",
    "testModelData['DEPARTURE_HOUR'] = testModelData['SCHEDULED_DEPARTURE'].str[:2]\n",
    "# Add arrival hour\n",
    "testModelData['SCHEDULED_ARRIVAL'] = testModelData['SCHEDULED_ARRIVAL'].apply('{:0>4}'.format)\n",
    "testModelData['ARRIVAL_HOUR'] = testModelData['SCHEDULED_ARRIVAL'].str[:2]"
   ]
  },
  {
   "cell_type": "code",
   "execution_count": 4,
   "metadata": {},
   "outputs": [
    {
     "output_type": "execute_result",
     "data": {
      "text/plain": [
       "   id  YEAR  MONTH  DAY  DAY_OF_WEEK AIRLINE  FLIGHT_NUMBER TAIL_NUMBER  \\\n",
       "0   0  2015      1    1            4      AS             98      N407AS   \n",
       "1   1  2015      1    1            4      AA           2336      N3KUAA   \n",
       "2   2  2015      1    1            4      US            840      N171US   \n",
       "3   3  2015      1    1            4      AA            258      N3HYAA   \n",
       "4   4  2015      1    1            4      AS            135      N527AS   \n",
       "\n",
       "  ORIGIN_AIRPORT DESTINATION_AIRPORT  ... AIRLINE_EV  AIRLINE_F9  AIRLINE_HA  \\\n",
       "0            ANC                 SEA  ...          0           0           0   \n",
       "1            LAX                 PBI  ...          0           0           0   \n",
       "2            SFO                 CLT  ...          0           0           0   \n",
       "3            LAX                 MIA  ...          0           0           0   \n",
       "4            SEA                 ANC  ...          0           0           0   \n",
       "\n",
       "   AIRLINE_MQ  AIRLINE_NK  AIRLINE_OO  AIRLINE_UA  AIRLINE_US AIRLINE_VX  \\\n",
       "0           0           0           0           0           0          0   \n",
       "1           0           0           0           0           0          0   \n",
       "2           0           0           0           0           1          0   \n",
       "3           0           0           0           0           0          0   \n",
       "4           0           0           0           0           0          0   \n",
       "\n",
       "   AIRLINE_WN  \n",
       "0           0  \n",
       "1           0  \n",
       "2           0  \n",
       "3           0  \n",
       "4           0  \n",
       "\n",
       "[5 rows x 705 columns]"
      ],
      "text/html": "<div>\n<style scoped>\n    .dataframe tbody tr th:only-of-type {\n        vertical-align: middle;\n    }\n\n    .dataframe tbody tr th {\n        vertical-align: top;\n    }\n\n    .dataframe thead th {\n        text-align: right;\n    }\n</style>\n<table border=\"1\" class=\"dataframe\">\n  <thead>\n    <tr style=\"text-align: right;\">\n      <th></th>\n      <th>id</th>\n      <th>YEAR</th>\n      <th>MONTH</th>\n      <th>DAY</th>\n      <th>DAY_OF_WEEK</th>\n      <th>AIRLINE</th>\n      <th>FLIGHT_NUMBER</th>\n      <th>TAIL_NUMBER</th>\n      <th>ORIGIN_AIRPORT</th>\n      <th>DESTINATION_AIRPORT</th>\n      <th>...</th>\n      <th>AIRLINE_EV</th>\n      <th>AIRLINE_F9</th>\n      <th>AIRLINE_HA</th>\n      <th>AIRLINE_MQ</th>\n      <th>AIRLINE_NK</th>\n      <th>AIRLINE_OO</th>\n      <th>AIRLINE_UA</th>\n      <th>AIRLINE_US</th>\n      <th>AIRLINE_VX</th>\n      <th>AIRLINE_WN</th>\n    </tr>\n  </thead>\n  <tbody>\n    <tr>\n      <th>0</th>\n      <td>0</td>\n      <td>2015</td>\n      <td>1</td>\n      <td>1</td>\n      <td>4</td>\n      <td>AS</td>\n      <td>98</td>\n      <td>N407AS</td>\n      <td>ANC</td>\n      <td>SEA</td>\n      <td>...</td>\n      <td>0</td>\n      <td>0</td>\n      <td>0</td>\n      <td>0</td>\n      <td>0</td>\n      <td>0</td>\n      <td>0</td>\n      <td>0</td>\n      <td>0</td>\n      <td>0</td>\n    </tr>\n    <tr>\n      <th>1</th>\n      <td>1</td>\n      <td>2015</td>\n      <td>1</td>\n      <td>1</td>\n      <td>4</td>\n      <td>AA</td>\n      <td>2336</td>\n      <td>N3KUAA</td>\n      <td>LAX</td>\n      <td>PBI</td>\n      <td>...</td>\n      <td>0</td>\n      <td>0</td>\n      <td>0</td>\n      <td>0</td>\n      <td>0</td>\n      <td>0</td>\n      <td>0</td>\n      <td>0</td>\n      <td>0</td>\n      <td>0</td>\n    </tr>\n    <tr>\n      <th>2</th>\n      <td>2</td>\n      <td>2015</td>\n      <td>1</td>\n      <td>1</td>\n      <td>4</td>\n      <td>US</td>\n      <td>840</td>\n      <td>N171US</td>\n      <td>SFO</td>\n      <td>CLT</td>\n      <td>...</td>\n      <td>0</td>\n      <td>0</td>\n      <td>0</td>\n      <td>0</td>\n      <td>0</td>\n      <td>0</td>\n      <td>0</td>\n      <td>1</td>\n      <td>0</td>\n      <td>0</td>\n    </tr>\n    <tr>\n      <th>3</th>\n      <td>3</td>\n      <td>2015</td>\n      <td>1</td>\n      <td>1</td>\n      <td>4</td>\n      <td>AA</td>\n      <td>258</td>\n      <td>N3HYAA</td>\n      <td>LAX</td>\n      <td>MIA</td>\n      <td>...</td>\n      <td>0</td>\n      <td>0</td>\n      <td>0</td>\n      <td>0</td>\n      <td>0</td>\n      <td>0</td>\n      <td>0</td>\n      <td>0</td>\n      <td>0</td>\n      <td>0</td>\n    </tr>\n    <tr>\n      <th>4</th>\n      <td>4</td>\n      <td>2015</td>\n      <td>1</td>\n      <td>1</td>\n      <td>4</td>\n      <td>AS</td>\n      <td>135</td>\n      <td>N527AS</td>\n      <td>SEA</td>\n      <td>ANC</td>\n      <td>...</td>\n      <td>0</td>\n      <td>0</td>\n      <td>0</td>\n      <td>0</td>\n      <td>0</td>\n      <td>0</td>\n      <td>0</td>\n      <td>0</td>\n      <td>0</td>\n      <td>0</td>\n    </tr>\n  </tbody>\n</table>\n<p>5 rows × 705 columns</p>\n</div>"
     },
     "metadata": {},
     "execution_count": 4
    }
   ],
   "source": [
    "# create dummies\n",
    "dummy_fields = ['ARRIVAL_HOUR', 'ORIGIN_AIRPORT', 'DESTINATION_AIRPORT', 'AIRLINE']\n",
    "for each in dummy_fields:\n",
    "    dummies = pd.get_dummies(testModelData[each], prefix=each, drop_first=False)\n",
    "    testModelData = pd.concat([testModelData, dummies], axis=1)\n",
    "testModelData.head()"
   ]
  },
  {
   "cell_type": "code",
   "execution_count": 5,
   "metadata": {},
   "outputs": [],
   "source": [
    "# remove original columns\n",
    "testModelData = testModelData.drop(dummy_fields, axis=1)"
   ]
  },
  {
   "cell_type": "code",
   "execution_count": 6,
   "metadata": {},
   "outputs": [],
   "source": [
    "# Select columns\n",
    "trainData3 = testModelData.drop(columns=['YEAR', 'FLIGHT_NUMBER', 'TAIL_NUMBER', 'DEPARTURE_TIME' , 'TAXI_OUT', 'AIR_TIME', 'DISTANCE'])"
   ]
  },
  {
   "cell_type": "code",
   "execution_count": 7,
   "metadata": {},
   "outputs": [
    {
     "output_type": "stream",
     "name": "stdout",
     "text": [
      "(2254842, 693) (563711, 693) (2254842,) (563711,)\n"
     ]
    }
   ],
   "source": [
    "# ReduceDataSet\n",
    "\n",
    "# Split data\n",
    "X = trainData3.drop(columns='ARRIVAL_DELAY')\n",
    "Y = trainData3['ARRIVAL_DELAY']\n",
    "\n",
    "X_train, X_test, Y_train, Y_test = train_test_split(X, Y, test_size = 0.2, random_state = 42)\n",
    "print(X_train.shape, X_test.shape, Y_train.shape, Y_test.shape)"
   ]
  },
  {
   "cell_type": "code",
   "execution_count": 8,
   "metadata": {},
   "outputs": [
    {
     "output_type": "stream",
     "name": "stdout",
     "text": [
      "Train: 0.9916114018065509\n",
      "Test: 0.9584787665700656\n"
     ]
    }
   ],
   "source": [
    "regressor = RandomForestRegressor(n_estimators = 10, random_state = 0, n_jobs=-1)\n",
    "regressor.fit(X_train, Y_train)\n",
    "# R^2 scores\n",
    "print('Train:', regressor.score(X_train, Y_train))\n",
    "print('Test:', regressor.score(X_test, Y_test))"
   ]
  },
  {
   "cell_type": "markdown",
   "metadata": {},
   "source": [
    "# TEST DATA"
   ]
  },
  {
   "cell_type": "code",
   "execution_count": 9,
   "metadata": {},
   "outputs": [],
   "source": [
    "\n",
    "# Add departure hour\n",
    "testData['SCHEDULED_DEPARTURE'] = testData['SCHEDULED_DEPARTURE'].apply('{:0>4}'.format)\n",
    "testData['DEPARTURE_HOUR'] = testData['SCHEDULED_DEPARTURE'].str[:2]\n",
    "# Add arrival hour\n",
    "testData['SCHEDULED_ARRIVAL'] = testData['SCHEDULED_ARRIVAL'].apply('{:0>4}'.format)\n",
    "testData['ARRIVAL_HOUR'] = testData['SCHEDULED_ARRIVAL'].str[:2]"
   ]
  },
  {
   "cell_type": "code",
   "execution_count": 10,
   "metadata": {},
   "outputs": [
    {
     "output_type": "execute_result",
     "data": {
      "text/plain": [
       "   id  YEAR  MONTH  DAY  DAY_OF_WEEK AIRLINE  FLIGHT_NUMBER TAIL_NUMBER  \\\n",
       "0   0  2015      7    1            3      NK            298      N624NK   \n",
       "1   1  2015      7    1            3      AA           1965      N507AY   \n",
       "2   2  2015      7    1            3      DL           2020       N3759   \n",
       "3   3  2015      7    1            3      NK            612      N629NK   \n",
       "4   4  2015      7    1            3      UA           1044      N39418   \n",
       "\n",
       "  ORIGIN_AIRPORT DESTINATION_AIRPORT  ... ARRIVAL_HOUR_14  ARRIVAL_HOUR_15  \\\n",
       "0            LAS                 IAH  ...               0                0   \n",
       "1            SFO                 CLT  ...               0                0   \n",
       "2            LAX                 MEM  ...               0                0   \n",
       "3            LAS                 MSP  ...               0                0   \n",
       "4            ANC                 ORD  ...               0                0   \n",
       "\n",
       "   ARRIVAL_HOUR_16  ARRIVAL_HOUR_17  ARRIVAL_HOUR_18  ARRIVAL_HOUR_19  \\\n",
       "0                0                0                0                0   \n",
       "1                0                0                0                0   \n",
       "2                0                0                0                0   \n",
       "3                0                0                0                0   \n",
       "4                0                0                0                0   \n",
       "\n",
       "   ARRIVAL_HOUR_20  ARRIVAL_HOUR_21 ARRIVAL_HOUR_22 ARRIVAL_HOUR_23  \n",
       "0                0                0               0               0  \n",
       "1                0                0               0               0  \n",
       "2                0                0               0               0  \n",
       "3                0                0               0               0  \n",
       "4                0                0               0               0  \n",
       "\n",
       "[5 rows x 682 columns]"
      ],
      "text/html": "<div>\n<style scoped>\n    .dataframe tbody tr th:only-of-type {\n        vertical-align: middle;\n    }\n\n    .dataframe tbody tr th {\n        vertical-align: top;\n    }\n\n    .dataframe thead th {\n        text-align: right;\n    }\n</style>\n<table border=\"1\" class=\"dataframe\">\n  <thead>\n    <tr style=\"text-align: right;\">\n      <th></th>\n      <th>id</th>\n      <th>YEAR</th>\n      <th>MONTH</th>\n      <th>DAY</th>\n      <th>DAY_OF_WEEK</th>\n      <th>AIRLINE</th>\n      <th>FLIGHT_NUMBER</th>\n      <th>TAIL_NUMBER</th>\n      <th>ORIGIN_AIRPORT</th>\n      <th>DESTINATION_AIRPORT</th>\n      <th>...</th>\n      <th>ARRIVAL_HOUR_14</th>\n      <th>ARRIVAL_HOUR_15</th>\n      <th>ARRIVAL_HOUR_16</th>\n      <th>ARRIVAL_HOUR_17</th>\n      <th>ARRIVAL_HOUR_18</th>\n      <th>ARRIVAL_HOUR_19</th>\n      <th>ARRIVAL_HOUR_20</th>\n      <th>ARRIVAL_HOUR_21</th>\n      <th>ARRIVAL_HOUR_22</th>\n      <th>ARRIVAL_HOUR_23</th>\n    </tr>\n  </thead>\n  <tbody>\n    <tr>\n      <th>0</th>\n      <td>0</td>\n      <td>2015</td>\n      <td>7</td>\n      <td>1</td>\n      <td>3</td>\n      <td>NK</td>\n      <td>298</td>\n      <td>N624NK</td>\n      <td>LAS</td>\n      <td>IAH</td>\n      <td>...</td>\n      <td>0</td>\n      <td>0</td>\n      <td>0</td>\n      <td>0</td>\n      <td>0</td>\n      <td>0</td>\n      <td>0</td>\n      <td>0</td>\n      <td>0</td>\n      <td>0</td>\n    </tr>\n    <tr>\n      <th>1</th>\n      <td>1</td>\n      <td>2015</td>\n      <td>7</td>\n      <td>1</td>\n      <td>3</td>\n      <td>AA</td>\n      <td>1965</td>\n      <td>N507AY</td>\n      <td>SFO</td>\n      <td>CLT</td>\n      <td>...</td>\n      <td>0</td>\n      <td>0</td>\n      <td>0</td>\n      <td>0</td>\n      <td>0</td>\n      <td>0</td>\n      <td>0</td>\n      <td>0</td>\n      <td>0</td>\n      <td>0</td>\n    </tr>\n    <tr>\n      <th>2</th>\n      <td>2</td>\n      <td>2015</td>\n      <td>7</td>\n      <td>1</td>\n      <td>3</td>\n      <td>DL</td>\n      <td>2020</td>\n      <td>N3759</td>\n      <td>LAX</td>\n      <td>MEM</td>\n      <td>...</td>\n      <td>0</td>\n      <td>0</td>\n      <td>0</td>\n      <td>0</td>\n      <td>0</td>\n      <td>0</td>\n      <td>0</td>\n      <td>0</td>\n      <td>0</td>\n      <td>0</td>\n    </tr>\n    <tr>\n      <th>3</th>\n      <td>3</td>\n      <td>2015</td>\n      <td>7</td>\n      <td>1</td>\n      <td>3</td>\n      <td>NK</td>\n      <td>612</td>\n      <td>N629NK</td>\n      <td>LAS</td>\n      <td>MSP</td>\n      <td>...</td>\n      <td>0</td>\n      <td>0</td>\n      <td>0</td>\n      <td>0</td>\n      <td>0</td>\n      <td>0</td>\n      <td>0</td>\n      <td>0</td>\n      <td>0</td>\n      <td>0</td>\n    </tr>\n    <tr>\n      <th>4</th>\n      <td>4</td>\n      <td>2015</td>\n      <td>7</td>\n      <td>1</td>\n      <td>3</td>\n      <td>UA</td>\n      <td>1044</td>\n      <td>N39418</td>\n      <td>ANC</td>\n      <td>ORD</td>\n      <td>...</td>\n      <td>0</td>\n      <td>0</td>\n      <td>0</td>\n      <td>0</td>\n      <td>0</td>\n      <td>0</td>\n      <td>0</td>\n      <td>0</td>\n      <td>0</td>\n      <td>0</td>\n    </tr>\n  </tbody>\n</table>\n<p>5 rows × 682 columns</p>\n</div>"
     },
     "metadata": {},
     "execution_count": 10
    }
   ],
   "source": [
    "# Create dummies\n",
    "dummy_fields = ['ORIGIN_AIRPORT', 'DESTINATION_AIRPORT', 'AIRLINE', 'ARRIVAL_HOUR']\n",
    "for each in dummy_fields:\n",
    "    dummies = pd.get_dummies(testData[each], prefix=each, drop_first=False)\n",
    "    testData = pd.concat([testData, dummies], axis=1)\n",
    "testData.head()   "
   ]
  },
  {
   "cell_type": "code",
   "execution_count": 11,
   "metadata": {},
   "outputs": [
    {
     "output_type": "execute_result",
     "data": {
      "text/plain": [
       "Index(['id', 'YEAR', 'MONTH', 'DAY', 'DAY_OF_WEEK', 'AIRLINE', 'FLIGHT_NUMBER',\n",
       "       'TAIL_NUMBER', 'ORIGIN_AIRPORT', 'DESTINATION_AIRPORT',\n",
       "       'SCHEDULED_DEPARTURE', 'DEPARTURE_TIME', 'TAXI_OUT', 'WHEELS_OFF',\n",
       "       'SCHEDULED_TIME', 'ELAPSED_TIME', 'AIR_TIME', 'DISTANCE',\n",
       "       'SCHEDULED_ARRIVAL', 'DEPARTURE_HOUR', 'ARRIVAL_HOUR',\n",
       "       'ORIGIN_AIRPORT_ABE', 'ORIGIN_AIRPORT_ABI', 'ORIGIN_AIRPORT_ABQ',\n",
       "       'ORIGIN_AIRPORT_ABR', 'ORIGIN_AIRPORT_ABY', 'ORIGIN_AIRPORT_ACK',\n",
       "       'ORIGIN_AIRPORT_ACT', 'ORIGIN_AIRPORT_ACV', 'ORIGIN_AIRPORT_ACY',\n",
       "       'ORIGIN_AIRPORT_ADK', 'ORIGIN_AIRPORT_ADQ', 'ORIGIN_AIRPORT_AEX',\n",
       "       'ORIGIN_AIRPORT_AGS', 'ORIGIN_AIRPORT_AKN', 'ORIGIN_AIRPORT_ALB',\n",
       "       'ORIGIN_AIRPORT_ALO', 'ORIGIN_AIRPORT_AMA', 'ORIGIN_AIRPORT_ANC',\n",
       "       'ORIGIN_AIRPORT_APN'],\n",
       "      dtype='object')"
      ]
     },
     "metadata": {},
     "execution_count": 11
    }
   ],
   "source": [
    "testData.columns[:40]"
   ]
  },
  {
   "cell_type": "code",
   "execution_count": 12,
   "metadata": {},
   "outputs": [],
   "source": [
    "# remove original dummies\n",
    "testData = testData.drop(dummy_fields, axis=1)\n"
   ]
  },
  {
   "cell_type": "code",
   "execution_count": 13,
   "metadata": {},
   "outputs": [],
   "source": [
    "# Select data\n",
    "testData = testData.drop(columns=['YEAR', 'FLIGHT_NUMBER', 'TAIL_NUMBER', 'DEPARTURE_TIME' , 'TAXI_OUT', 'AIR_TIME', 'DISTANCE'])\n",
    "#testData = testData.drop(columns=['TAIL_NUMBER', 'SCHEDULED_DEPARTURE', 'SCHEDULED_ARRIVAL', 'DEPARTURE_HOUR']) #megiel added \n",
    "# select missing columns\n",
    "missingCols = X_test.columns.difference(testData.columns)\n",
    "# add zeros to missing columns\n",
    "for col in missingCols:\n",
    "    testData[col] = 0"
   ]
  },
  {
   "source": [
    "## Debugging the testdata"
   ],
   "cell_type": "markdown",
   "metadata": {}
  },
  {
   "cell_type": "code",
   "execution_count": 14,
   "metadata": {},
   "outputs": [
    {
     "output_type": "execute_result",
     "data": {
      "text/plain": [
       "Index(['SCHEDULED_DEPARTURE', 'SCHEDULED_ARRIVAL', 'DEPARTURE_HOUR'], dtype='object')"
      ]
     },
     "metadata": {},
     "execution_count": 14
    }
   ],
   "source": [
    "testData.columns[testData.dtypes=='object']"
   ]
  },
  {
   "cell_type": "code",
   "execution_count": 15,
   "metadata": {},
   "outputs": [
    {
     "output_type": "execute_result",
     "data": {
      "text/plain": [
       "Index(['SCHEDULED_DEPARTURE', 'SCHEDULED_ARRIVAL', 'DEPARTURE_HOUR'], dtype='object')"
      ]
     },
     "metadata": {},
     "execution_count": 15
    }
   ],
   "source": [
    "trainData3.columns[trainData3.dtypes=='object']"
   ]
  },
  {
   "cell_type": "code",
   "execution_count": null,
   "metadata": {},
   "outputs": [],
   "source": []
  },
  {
   "cell_type": "code",
   "execution_count": 16,
   "metadata": {},
   "outputs": [],
   "source": [
    "finalPrediction = regressor.predict(testData)\n",
    "finalDataset = pd.DataFrame(data=finalPrediction, columns=['ARRIVAL_DELAY'])"
   ]
  },
  {
   "cell_type": "code",
   "execution_count": 17,
   "metadata": {},
   "outputs": [],
   "source": [
    "# save file\n",
    "finalDataset.to_csv('prediction.csv', index_label='id')"
   ]
  },
  {
   "cell_type": "code",
   "execution_count": null,
   "metadata": {},
   "outputs": [],
   "source": []
  },
  {
   "cell_type": "code",
   "execution_count": null,
   "metadata": {},
   "outputs": [],
   "source": []
  }
 ],
 "metadata": {
  "kernelspec": {
   "display_name": "Python 3",
   "language": "python",
   "name": "python3"
  },
  "language_info": {
   "codemirror_mode": {
    "name": "ipython",
    "version": 3
   },
   "file_extension": ".py",
   "mimetype": "text/x-python",
   "name": "python",
   "nbconvert_exporter": "python",
   "pygments_lexer": "ipython3",
   "version": "3.8.5-final"
  }
 },
 "nbformat": 4,
 "nbformat_minor": 4
}