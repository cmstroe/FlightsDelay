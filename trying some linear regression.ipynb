{
 "cells": [
  {
   "cell_type": "markdown",
   "metadata": {},
   "source": [
    "# Predicting flight delays"
   ]
  },
  {
   "cell_type": "markdown",
   "metadata": {},
   "source": [
    "This notebook is a start to predict the delays of flights from a 2015 dataset"
   ]
  },
  {
   "cell_type": "code",
   "execution_count": 2,
   "metadata": {},
   "outputs": [],
   "source": [
    "import pandas as pd\n",
    "import numpy as np\n",
    "import os\n",
    "import matplotlib.pyplot as plt\n",
    "import matplotlib as mpl\n",
    "import statsmodels.api as sm\n",
    "from sklearn.linear_model import LinearRegression"
   ]
  },
  {
   "cell_type": "code",
   "execution_count": 3,
   "metadata": {},
   "outputs": [],
   "source": [
    "#macbook\n",
    "#airlines = pd.read_csv(os.path.abspath(\"airlines.csv\"))\n",
    "#airports = pd.read_csv(os.path.abspath(\"airports.csv\"))\n",
    "#flights = pd.read_csv(os.path.abspath(\"flights_train.csv\"))"
   ]
  },
  {
   "cell_type": "code",
   "execution_count": 4,
   "metadata": {},
   "outputs": [],
   "source": [
    "airlines = pd.read_csv(\"data\\\\airlines.csv\")\n",
    "airports = pd.read_csv(\"data\\\\airports.csv\")\n",
    "flights_original = pd.read_csv(\"data\\\\flights_train.csv\")\n",
    "flights = flights_original\n",
    "flights."
   ]
  },
  {
   "cell_type": "markdown",
   "metadata": {},
   "source": [
    "## Inspecting the data"
   ]
  },
  {
   "source": [
    " the amount of delays in the set is: 895684 \n",
    " the amount of no delays in the set is: 1430022"
   ],
   "cell_type": "markdown",
   "metadata": {}
  },
  {
   "cell_type": "code",
   "execution_count": 5,
   "metadata": {},
   "outputs": [
    {
     "output_type": "execute_result",
     "data": {
      "text/plain": [
       "   id  YEAR  MONTH  DAY  DAY_OF_WEEK AIRLINE  FLIGHT_NUMBER TAIL_NUMBER  \\\n",
       "0   0  2015      1    1            4      AS             98      N407AS   \n",
       "1   1  2015      1    1            4      AA           2336      N3KUAA   \n",
       "2   2  2015      1    1            4      US            840      N171US   \n",
       "3   3  2015      1    1            4      AA            258      N3HYAA   \n",
       "4   4  2015      1    1            4      AS            135      N527AS   \n",
       "\n",
       "  ORIGIN_AIRPORT DESTINATION_AIRPORT  SCHEDULED_DEPARTURE  DEPARTURE_TIME  \\\n",
       "0            ANC                 SEA                    5          2354.0   \n",
       "1            LAX                 PBI                   10             2.0   \n",
       "2            SFO                 CLT                   20            18.0   \n",
       "3            LAX                 MIA                   20            15.0   \n",
       "4            SEA                 ANC                   25            24.0   \n",
       "\n",
       "   TAXI_OUT  WHEELS_OFF  SCHEDULED_TIME  ELAPSED_TIME  AIR_TIME  DISTANCE  \\\n",
       "0      21.0        15.0           205.0         194.0     169.0      1448   \n",
       "1      12.0        14.0           280.0         279.0     263.0      2330   \n",
       "2      16.0        34.0           286.0         293.0     266.0      2296   \n",
       "3      15.0        30.0           285.0         281.0     258.0      2342   \n",
       "4      11.0        35.0           235.0         215.0     199.0      1448   \n",
       "\n",
       "   SCHEDULED_ARRIVAL  ARRIVAL_DELAY  \n",
       "0                430          -22.0  \n",
       "1                750           -9.0  \n",
       "2                806            5.0  \n",
       "3                805           -9.0  \n",
       "4                320          -21.0  "
      ],
      "text/html": "<div>\n<style scoped>\n    .dataframe tbody tr th:only-of-type {\n        vertical-align: middle;\n    }\n\n    .dataframe tbody tr th {\n        vertical-align: top;\n    }\n\n    .dataframe thead th {\n        text-align: right;\n    }\n</style>\n<table border=\"1\" class=\"dataframe\">\n  <thead>\n    <tr style=\"text-align: right;\">\n      <th></th>\n      <th>id</th>\n      <th>YEAR</th>\n      <th>MONTH</th>\n      <th>DAY</th>\n      <th>DAY_OF_WEEK</th>\n      <th>AIRLINE</th>\n      <th>FLIGHT_NUMBER</th>\n      <th>TAIL_NUMBER</th>\n      <th>ORIGIN_AIRPORT</th>\n      <th>DESTINATION_AIRPORT</th>\n      <th>SCHEDULED_DEPARTURE</th>\n      <th>DEPARTURE_TIME</th>\n      <th>TAXI_OUT</th>\n      <th>WHEELS_OFF</th>\n      <th>SCHEDULED_TIME</th>\n      <th>ELAPSED_TIME</th>\n      <th>AIR_TIME</th>\n      <th>DISTANCE</th>\n      <th>SCHEDULED_ARRIVAL</th>\n      <th>ARRIVAL_DELAY</th>\n    </tr>\n  </thead>\n  <tbody>\n    <tr>\n      <th>0</th>\n      <td>0</td>\n      <td>2015</td>\n      <td>1</td>\n      <td>1</td>\n      <td>4</td>\n      <td>AS</td>\n      <td>98</td>\n      <td>N407AS</td>\n      <td>ANC</td>\n      <td>SEA</td>\n      <td>5</td>\n      <td>2354.0</td>\n      <td>21.0</td>\n      <td>15.0</td>\n      <td>205.0</td>\n      <td>194.0</td>\n      <td>169.0</td>\n      <td>1448</td>\n      <td>430</td>\n      <td>-22.0</td>\n    </tr>\n    <tr>\n      <th>1</th>\n      <td>1</td>\n      <td>2015</td>\n      <td>1</td>\n      <td>1</td>\n      <td>4</td>\n      <td>AA</td>\n      <td>2336</td>\n      <td>N3KUAA</td>\n      <td>LAX</td>\n      <td>PBI</td>\n      <td>10</td>\n      <td>2.0</td>\n      <td>12.0</td>\n      <td>14.0</td>\n      <td>280.0</td>\n      <td>279.0</td>\n      <td>263.0</td>\n      <td>2330</td>\n      <td>750</td>\n      <td>-9.0</td>\n    </tr>\n    <tr>\n      <th>2</th>\n      <td>2</td>\n      <td>2015</td>\n      <td>1</td>\n      <td>1</td>\n      <td>4</td>\n      <td>US</td>\n      <td>840</td>\n      <td>N171US</td>\n      <td>SFO</td>\n      <td>CLT</td>\n      <td>20</td>\n      <td>18.0</td>\n      <td>16.0</td>\n      <td>34.0</td>\n      <td>286.0</td>\n      <td>293.0</td>\n      <td>266.0</td>\n      <td>2296</td>\n      <td>806</td>\n      <td>5.0</td>\n    </tr>\n    <tr>\n      <th>3</th>\n      <td>3</td>\n      <td>2015</td>\n      <td>1</td>\n      <td>1</td>\n      <td>4</td>\n      <td>AA</td>\n      <td>258</td>\n      <td>N3HYAA</td>\n      <td>LAX</td>\n      <td>MIA</td>\n      <td>20</td>\n      <td>15.0</td>\n      <td>15.0</td>\n      <td>30.0</td>\n      <td>285.0</td>\n      <td>281.0</td>\n      <td>258.0</td>\n      <td>2342</td>\n      <td>805</td>\n      <td>-9.0</td>\n    </tr>\n    <tr>\n      <th>4</th>\n      <td>4</td>\n      <td>2015</td>\n      <td>1</td>\n      <td>1</td>\n      <td>4</td>\n      <td>AS</td>\n      <td>135</td>\n      <td>N527AS</td>\n      <td>SEA</td>\n      <td>ANC</td>\n      <td>25</td>\n      <td>24.0</td>\n      <td>11.0</td>\n      <td>35.0</td>\n      <td>235.0</td>\n      <td>215.0</td>\n      <td>199.0</td>\n      <td>1448</td>\n      <td>320</td>\n      <td>-21.0</td>\n    </tr>\n  </tbody>\n</table>\n</div>"
     },
     "metadata": {},
     "execution_count": 5
    }
   ],
   "source": [
    "flights_original.head()"
   ]
  },
  {
   "cell_type": "markdown",
   "metadata": {},
   "source": [
    "## Making some extra variables that might be nice"
   ]
  },
  {
   "cell_type": "code",
   "execution_count": 6,
   "metadata": {},
   "outputs": [],
   "source": [
    "flights['est_elapsed_delay']= flights['ELAPSED_TIME'] - flights['SCHEDULED_TIME']"
   ]
  },
  {
   "source": [
    "## dummies"
   ],
   "cell_type": "markdown",
   "metadata": {}
  },
  {
   "source": [
    "First we create dummies for airlines and airports"
   ],
   "cell_type": "markdown",
   "metadata": {}
  },
  {
   "cell_type": "code",
   "execution_count": 7,
   "metadata": {},
   "outputs": [
    {
     "output_type": "execute_result",
     "data": {
      "text/plain": [
       "<bound method NDFrame.head of               id  YEAR  MONTH  DAY  DAY_OF_WEEK AIRLINE  FLIGHT_NUMBER  \\\n",
       "0              0  2015      1    1            4      AS             98   \n",
       "1              1  2015      1    1            4      AA           2336   \n",
       "2              2  2015      1    1            4      US            840   \n",
       "3              3  2015      1    1            4      AA            258   \n",
       "4              4  2015      1    1            4      AS            135   \n",
       "...          ...   ...    ...  ...          ...     ...            ...   \n",
       "2818548  2818548  2015      6   30            2      UA           1180   \n",
       "2818549  2818549  2015      6   30            2      UA           1192   \n",
       "2818550  2818550  2015      6   30            2      UA           1480   \n",
       "2818551  2818551  2015      6   30            2      UA           1637   \n",
       "2818552  2818552  2015      6   30            2      UA           1903   \n",
       "\n",
       "        TAIL_NUMBER ORIGIN_AIRPORT DESTINATION_AIRPORT  ...  destiport_TYS  \\\n",
       "0            N407AS            ANC                 SEA  ...              0   \n",
       "1            N3KUAA            LAX                 PBI  ...              0   \n",
       "2            N171US            SFO                 CLT  ...              0   \n",
       "3            N3HYAA            LAX                 MIA  ...              0   \n",
       "4            N527AS            SEA                 ANC  ...              0   \n",
       "...             ...            ...                 ...  ...            ...   \n",
       "2818548      N65832            LAX                 ORD  ...              0   \n",
       "2818549      N69839            LAX                 IAH  ...              0   \n",
       "2818550      N37298            PDX                 IAH  ...              0   \n",
       "2818551      N35260            SEA                 IAH  ...              0   \n",
       "2818552      N35271            IAH                 SJU  ...              0   \n",
       "\n",
       "         destiport_UST  destiport_VEL  destiport_VLD  destiport_VPS  \\\n",
       "0                    0              0              0              0   \n",
       "1                    0              0              0              0   \n",
       "2                    0              0              0              0   \n",
       "3                    0              0              0              0   \n",
       "4                    0              0              0              0   \n",
       "...                ...            ...            ...            ...   \n",
       "2818548              0              0              0              0   \n",
       "2818549              0              0              0              0   \n",
       "2818550              0              0              0              0   \n",
       "2818551              0              0              0              0   \n",
       "2818552              0              0              0              0   \n",
       "\n",
       "         destiport_WRG  destiport_WYS  destiport_XNA  destiport_YAK  \\\n",
       "0                    0              0              0              0   \n",
       "1                    0              0              0              0   \n",
       "2                    0              0              0              0   \n",
       "3                    0              0              0              0   \n",
       "4                    0              0              0              0   \n",
       "...                ...            ...            ...            ...   \n",
       "2818548              0              0              0              0   \n",
       "2818549              0              0              0              0   \n",
       "2818550              0              0              0              0   \n",
       "2818551              0              0              0              0   \n",
       "2818552              0              0              0              0   \n",
       "\n",
       "         destiport_YUM  \n",
       "0                    0  \n",
       "1                    0  \n",
       "2                    0  \n",
       "3                    0  \n",
       "4                    0  \n",
       "...                ...  \n",
       "2818548              0  \n",
       "2818549              0  \n",
       "2818550              0  \n",
       "2818551              0  \n",
       "2818552              0  \n",
       "\n",
       "[2818553 rows x 679 columns]>"
      ]
     },
     "metadata": {},
     "execution_count": 7
    }
   ],
   "source": [
    "flights = flights_original\n",
    "# airlines\n",
    "dummies_airline = pd.get_dummies(flights.AIRLINE, prefix = \"airline\")\n",
    "# origins\n",
    "dummies_oriport = pd.get_dummies(flights.ORIGIN_AIRPORT, prefix = \"oriport\")\n",
    "# destinations\n",
    "dummies_destiport = pd.get_dummies(flights.DESTINATION_AIRPORT, prefix = \"destiport\")\n",
    "flights = pd.concat([flights, dummies_airline, dummies_oriport, dummies_destiport], axis =1)\n",
    "flights.head"
   ]
  },
  {
   "cell_type": "code",
   "execution_count": 30,
   "metadata": {},
   "outputs": [
    {
     "output_type": "execute_result",
     "data": {
      "text/plain": [
       "Index(['id', 'YEAR', 'MONTH', 'DAY', 'DAY_OF_WEEK', 'AIRLINE', 'FLIGHT_NUMBER',\n",
       "       'TAIL_NUMBER', 'ORIGIN_AIRPORT', 'DESTINATION_AIRPORT',\n",
       "       ...\n",
       "       'destiport_UST', 'destiport_VEL', 'destiport_VLD', 'destiport_VPS',\n",
       "       'destiport_WRG', 'destiport_WYS', 'destiport_XNA', 'destiport_YAK',\n",
       "       'destiport_YUM', 'arr_delay_only'],\n",
       "      dtype='object', length=680)"
      ]
     },
     "metadata": {},
     "execution_count": 30
    }
   ],
   "source": [
    "columns=flights.columns\n",
    "dummies_cols=list(columns[21:])\n",
    "flights.columns\n"
   ]
  },
  {
   "cell_type": "code",
   "execution_count": 28,
   "metadata": {},
   "outputs": [
    {
     "output_type": "execute_result",
     "data": {
      "text/plain": [
       "          id  YEAR  MONTH  DAY  DAY_OF_WEEK AIRLINE  FLIGHT_NUMBER  \\\n",
       "60005  60005  2015      1    4            7      OO           4484   \n",
       "60006  60006  2015      1    4            7      OO           5158   \n",
       "60007  60007  2015      1    4            7      UA           1504   \n",
       "60008  60008  2015      1    4            7      DL           2383   \n",
       "60009  60009  2015      1    4            7      UA            730   \n",
       "60010  60010  2015      1    4            7      UA            737   \n",
       "60011  60011  2015      1    4            7      UA            371   \n",
       "60012  60012  2015      1    4            7      UA           1111   \n",
       "60013  60013  2015      1    4            7      UA           1275   \n",
       "60014  60014  2015      1    4            7      UA           1420   \n",
       "60015  60015  2015      1    4            7      US            608   \n",
       "60016  60016  2015      1    4            7      US            629   \n",
       "60017  60017  2015      1    4            7      US            671   \n",
       "60018  60018  2015      1    4            7      US            736   \n",
       "60019  60019  2015      1    4            7      US           1708   \n",
       "\n",
       "      TAIL_NUMBER ORIGIN_AIRPORT DESTINATION_AIRPORT  ...  destiport_UST  \\\n",
       "60005      N693CA            LAX                 LAS  ...              0   \n",
       "60006      N702SK            IAH                 BFL  ...              0   \n",
       "60007      N26226            IAH                 LAS  ...              0   \n",
       "60008      N934AT            ATL                 XNA  ...              0   \n",
       "60009      N463UA            ORD                 BWI  ...              0   \n",
       "60010      N422UA            IAH                 DEN  ...              0   \n",
       "60011      N833UA            SEA                 SFO  ...              0   \n",
       "60012      N37437            SFO                 SEA  ...              0   \n",
       "60013      N16701            IAH                 SLC  ...              0   \n",
       "60014      N24212            EWR                 SFO  ...              0   \n",
       "60015      N197UW            PHX                 LAS  ...              0   \n",
       "60016      N559UW            PHX                 SNA  ...              0   \n",
       "60017      N575UW            PHX                 PDX  ...              0   \n",
       "60018      N534UW            PHX                 SFO  ...              0   \n",
       "60019      N945UW            PHL                 BOS  ...              0   \n",
       "\n",
       "       destiport_VEL  destiport_VLD  destiport_VPS  destiport_WRG  \\\n",
       "60005              0              0              0              0   \n",
       "60006              0              0              0              0   \n",
       "60007              0              0              0              0   \n",
       "60008              0              0              0              0   \n",
       "60009              0              0              0              0   \n",
       "60010              0              0              0              0   \n",
       "60011              0              0              0              0   \n",
       "60012              0              0              0              0   \n",
       "60013              0              0              0              0   \n",
       "60014              0              0              0              0   \n",
       "60015              0              0              0              0   \n",
       "60016              0              0              0              0   \n",
       "60017              0              0              0              0   \n",
       "60018              0              0              0              0   \n",
       "60019              0              0              0              0   \n",
       "\n",
       "       destiport_WYS  destiport_XNA  destiport_YAK  destiport_YUM  \\\n",
       "60005              0              0              0              0   \n",
       "60006              0              0              0              0   \n",
       "60007              0              0              0              0   \n",
       "60008              0              1              0              0   \n",
       "60009              0              0              0              0   \n",
       "60010              0              0              0              0   \n",
       "60011              0              0              0              0   \n",
       "60012              0              0              0              0   \n",
       "60013              0              0              0              0   \n",
       "60014              0              0              0              0   \n",
       "60015              0              0              0              0   \n",
       "60016              0              0              0              0   \n",
       "60017              0              0              0              0   \n",
       "60018              0              0              0              0   \n",
       "60019              0              0              0              0   \n",
       "\n",
       "       arr_delay_only  \n",
       "60005            13.0  \n",
       "60006            14.0  \n",
       "60007            60.0  \n",
       "60008             0.0  \n",
       "60009            83.0  \n",
       "60010            33.0  \n",
       "60011            35.0  \n",
       "60012             0.0  \n",
       "60013            96.0  \n",
       "60014             0.0  \n",
       "60015             0.0  \n",
       "60016            29.0  \n",
       "60017            15.0  \n",
       "60018             0.0  \n",
       "60019             0.0  \n",
       "\n",
       "[15 rows x 680 columns]"
      ],
      "text/html": "<div>\n<style scoped>\n    .dataframe tbody tr th:only-of-type {\n        vertical-align: middle;\n    }\n\n    .dataframe tbody tr th {\n        vertical-align: top;\n    }\n\n    .dataframe thead th {\n        text-align: right;\n    }\n</style>\n<table border=\"1\" class=\"dataframe\">\n  <thead>\n    <tr style=\"text-align: right;\">\n      <th></th>\n      <th>id</th>\n      <th>YEAR</th>\n      <th>MONTH</th>\n      <th>DAY</th>\n      <th>DAY_OF_WEEK</th>\n      <th>AIRLINE</th>\n      <th>FLIGHT_NUMBER</th>\n      <th>TAIL_NUMBER</th>\n      <th>ORIGIN_AIRPORT</th>\n      <th>DESTINATION_AIRPORT</th>\n      <th>...</th>\n      <th>destiport_UST</th>\n      <th>destiport_VEL</th>\n      <th>destiport_VLD</th>\n      <th>destiport_VPS</th>\n      <th>destiport_WRG</th>\n      <th>destiport_WYS</th>\n      <th>destiport_XNA</th>\n      <th>destiport_YAK</th>\n      <th>destiport_YUM</th>\n      <th>arr_delay_only</th>\n    </tr>\n  </thead>\n  <tbody>\n    <tr>\n      <th>60005</th>\n      <td>60005</td>\n      <td>2015</td>\n      <td>1</td>\n      <td>4</td>\n      <td>7</td>\n      <td>OO</td>\n      <td>4484</td>\n      <td>N693CA</td>\n      <td>LAX</td>\n      <td>LAS</td>\n      <td>...</td>\n      <td>0</td>\n      <td>0</td>\n      <td>0</td>\n      <td>0</td>\n      <td>0</td>\n      <td>0</td>\n      <td>0</td>\n      <td>0</td>\n      <td>0</td>\n      <td>13.0</td>\n    </tr>\n    <tr>\n      <th>60006</th>\n      <td>60006</td>\n      <td>2015</td>\n      <td>1</td>\n      <td>4</td>\n      <td>7</td>\n      <td>OO</td>\n      <td>5158</td>\n      <td>N702SK</td>\n      <td>IAH</td>\n      <td>BFL</td>\n      <td>...</td>\n      <td>0</td>\n      <td>0</td>\n      <td>0</td>\n      <td>0</td>\n      <td>0</td>\n      <td>0</td>\n      <td>0</td>\n      <td>0</td>\n      <td>0</td>\n      <td>14.0</td>\n    </tr>\n    <tr>\n      <th>60007</th>\n      <td>60007</td>\n      <td>2015</td>\n      <td>1</td>\n      <td>4</td>\n      <td>7</td>\n      <td>UA</td>\n      <td>1504</td>\n      <td>N26226</td>\n      <td>IAH</td>\n      <td>LAS</td>\n      <td>...</td>\n      <td>0</td>\n      <td>0</td>\n      <td>0</td>\n      <td>0</td>\n      <td>0</td>\n      <td>0</td>\n      <td>0</td>\n      <td>0</td>\n      <td>0</td>\n      <td>60.0</td>\n    </tr>\n    <tr>\n      <th>60008</th>\n      <td>60008</td>\n      <td>2015</td>\n      <td>1</td>\n      <td>4</td>\n      <td>7</td>\n      <td>DL</td>\n      <td>2383</td>\n      <td>N934AT</td>\n      <td>ATL</td>\n      <td>XNA</td>\n      <td>...</td>\n      <td>0</td>\n      <td>0</td>\n      <td>0</td>\n      <td>0</td>\n      <td>0</td>\n      <td>0</td>\n      <td>1</td>\n      <td>0</td>\n      <td>0</td>\n      <td>0.0</td>\n    </tr>\n    <tr>\n      <th>60009</th>\n      <td>60009</td>\n      <td>2015</td>\n      <td>1</td>\n      <td>4</td>\n      <td>7</td>\n      <td>UA</td>\n      <td>730</td>\n      <td>N463UA</td>\n      <td>ORD</td>\n      <td>BWI</td>\n      <td>...</td>\n      <td>0</td>\n      <td>0</td>\n      <td>0</td>\n      <td>0</td>\n      <td>0</td>\n      <td>0</td>\n      <td>0</td>\n      <td>0</td>\n      <td>0</td>\n      <td>83.0</td>\n    </tr>\n    <tr>\n      <th>60010</th>\n      <td>60010</td>\n      <td>2015</td>\n      <td>1</td>\n      <td>4</td>\n      <td>7</td>\n      <td>UA</td>\n      <td>737</td>\n      <td>N422UA</td>\n      <td>IAH</td>\n      <td>DEN</td>\n      <td>...</td>\n      <td>0</td>\n      <td>0</td>\n      <td>0</td>\n      <td>0</td>\n      <td>0</td>\n      <td>0</td>\n      <td>0</td>\n      <td>0</td>\n      <td>0</td>\n      <td>33.0</td>\n    </tr>\n    <tr>\n      <th>60011</th>\n      <td>60011</td>\n      <td>2015</td>\n      <td>1</td>\n      <td>4</td>\n      <td>7</td>\n      <td>UA</td>\n      <td>371</td>\n      <td>N833UA</td>\n      <td>SEA</td>\n      <td>SFO</td>\n      <td>...</td>\n      <td>0</td>\n      <td>0</td>\n      <td>0</td>\n      <td>0</td>\n      <td>0</td>\n      <td>0</td>\n      <td>0</td>\n      <td>0</td>\n      <td>0</td>\n      <td>35.0</td>\n    </tr>\n    <tr>\n      <th>60012</th>\n      <td>60012</td>\n      <td>2015</td>\n      <td>1</td>\n      <td>4</td>\n      <td>7</td>\n      <td>UA</td>\n      <td>1111</td>\n      <td>N37437</td>\n      <td>SFO</td>\n      <td>SEA</td>\n      <td>...</td>\n      <td>0</td>\n      <td>0</td>\n      <td>0</td>\n      <td>0</td>\n      <td>0</td>\n      <td>0</td>\n      <td>0</td>\n      <td>0</td>\n      <td>0</td>\n      <td>0.0</td>\n    </tr>\n    <tr>\n      <th>60013</th>\n      <td>60013</td>\n      <td>2015</td>\n      <td>1</td>\n      <td>4</td>\n      <td>7</td>\n      <td>UA</td>\n      <td>1275</td>\n      <td>N16701</td>\n      <td>IAH</td>\n      <td>SLC</td>\n      <td>...</td>\n      <td>0</td>\n      <td>0</td>\n      <td>0</td>\n      <td>0</td>\n      <td>0</td>\n      <td>0</td>\n      <td>0</td>\n      <td>0</td>\n      <td>0</td>\n      <td>96.0</td>\n    </tr>\n    <tr>\n      <th>60014</th>\n      <td>60014</td>\n      <td>2015</td>\n      <td>1</td>\n      <td>4</td>\n      <td>7</td>\n      <td>UA</td>\n      <td>1420</td>\n      <td>N24212</td>\n      <td>EWR</td>\n      <td>SFO</td>\n      <td>...</td>\n      <td>0</td>\n      <td>0</td>\n      <td>0</td>\n      <td>0</td>\n      <td>0</td>\n      <td>0</td>\n      <td>0</td>\n      <td>0</td>\n      <td>0</td>\n      <td>0.0</td>\n    </tr>\n    <tr>\n      <th>60015</th>\n      <td>60015</td>\n      <td>2015</td>\n      <td>1</td>\n      <td>4</td>\n      <td>7</td>\n      <td>US</td>\n      <td>608</td>\n      <td>N197UW</td>\n      <td>PHX</td>\n      <td>LAS</td>\n      <td>...</td>\n      <td>0</td>\n      <td>0</td>\n      <td>0</td>\n      <td>0</td>\n      <td>0</td>\n      <td>0</td>\n      <td>0</td>\n      <td>0</td>\n      <td>0</td>\n      <td>0.0</td>\n    </tr>\n    <tr>\n      <th>60016</th>\n      <td>60016</td>\n      <td>2015</td>\n      <td>1</td>\n      <td>4</td>\n      <td>7</td>\n      <td>US</td>\n      <td>629</td>\n      <td>N559UW</td>\n      <td>PHX</td>\n      <td>SNA</td>\n      <td>...</td>\n      <td>0</td>\n      <td>0</td>\n      <td>0</td>\n      <td>0</td>\n      <td>0</td>\n      <td>0</td>\n      <td>0</td>\n      <td>0</td>\n      <td>0</td>\n      <td>29.0</td>\n    </tr>\n    <tr>\n      <th>60017</th>\n      <td>60017</td>\n      <td>2015</td>\n      <td>1</td>\n      <td>4</td>\n      <td>7</td>\n      <td>US</td>\n      <td>671</td>\n      <td>N575UW</td>\n      <td>PHX</td>\n      <td>PDX</td>\n      <td>...</td>\n      <td>0</td>\n      <td>0</td>\n      <td>0</td>\n      <td>0</td>\n      <td>0</td>\n      <td>0</td>\n      <td>0</td>\n      <td>0</td>\n      <td>0</td>\n      <td>15.0</td>\n    </tr>\n    <tr>\n      <th>60018</th>\n      <td>60018</td>\n      <td>2015</td>\n      <td>1</td>\n      <td>4</td>\n      <td>7</td>\n      <td>US</td>\n      <td>736</td>\n      <td>N534UW</td>\n      <td>PHX</td>\n      <td>SFO</td>\n      <td>...</td>\n      <td>0</td>\n      <td>0</td>\n      <td>0</td>\n      <td>0</td>\n      <td>0</td>\n      <td>0</td>\n      <td>0</td>\n      <td>0</td>\n      <td>0</td>\n      <td>0.0</td>\n    </tr>\n    <tr>\n      <th>60019</th>\n      <td>60019</td>\n      <td>2015</td>\n      <td>1</td>\n      <td>4</td>\n      <td>7</td>\n      <td>US</td>\n      <td>1708</td>\n      <td>N945UW</td>\n      <td>PHL</td>\n      <td>BOS</td>\n      <td>...</td>\n      <td>0</td>\n      <td>0</td>\n      <td>0</td>\n      <td>0</td>\n      <td>0</td>\n      <td>0</td>\n      <td>0</td>\n      <td>0</td>\n      <td>0</td>\n      <td>0.0</td>\n    </tr>\n  </tbody>\n</table>\n<p>15 rows × 680 columns</p>\n</div>"
     },
     "metadata": {},
     "execution_count": 28
    }
   ],
   "source": [
    "# df['radius_cm'] = np.select([df['unit']=='inch'], [2.54 * df['radius']], default=df['radius'])\n",
    "flights['arr_delay_only'] = np.select([flights['ARRIVAL_DELAY']<2], [0], default=flights['ARRIVAL_DELAY'])\n",
    "flights[60005:60020]"
   ]
  },
  {
   "cell_type": "markdown",
   "metadata": {},
   "source": [
    "## Fitting a linear model"
   ]
  },
  {
   "cell_type": "code",
   "execution_count": null,
   "metadata": {},
   "outputs": [],
   "source": [
    "x = flights[['est_elapsed_delay', 'airline_AA','airline_AS','airline_B6','airline_DL','airline_EV','airline_F9','airline_HA','airline_MQ','airline_NK','airline_OO','airline_UA','airline_US','airline_VX','airline_WN']]\n",
    "\n",
    "## x2: dummies airlines + est_elapsed_delay\n",
    "x2 = flights[['est_elapsed_delay', 'airline_AA','airline_AS','airline_B6','airline_DL','airline_EV','airline_F9','airline_HA','airline_MQ','airline_NK','airline_OO','airline_UA','airline_US','airline_VX','airline_WN']]\n",
    "x3 = flights[['est_elapsed_delay','oriport_ABE','oriport_ABI','oriport_ABQ','oriport_ABR','oriport_ABY','oriport_ACK','oriport_ACT','oriport_ACV','oriport_ACY','oriport_ADK','oriport_ADQ','oriport_AEX','oriport_AGS','oriport_AKN','oriport_ALB','oriport_ALO','oriport_AMA','oriport_ANC','oriport_APN','oriport_ASE','oriport_ATL','oriport_ATW','oriport_AUS','oriport_AVL','oriport_AVP','oriport_AZO','oriport_BDL','oriport_BET','oriport_BFL','oriport_BGM','oriport_BGR','oriport_BHM','oriport_BIL','oriport_BIS','oriport_BJI','oriport_BLI','oriport_BMI','oriport_BNA','oriport_BOI','oriport_BOS','oriport_BPT','oriport_BQK','oriport_BQN','oriport_BRD','oriport_BRO','oriport_BRW','oriport_BTM','oriport_BTR','oriport_BTV','oriport_BUF','oriport_BUR','oriport_BWI','oriport_BZN','oriport_CAE','oriport_CAK','oriport_CDC','oriport_CDV','oriport_CEC','oriport_CHA','oriport_CHO','oriport_CHS','oriport_CID','oriport_CIU','oriport_CLD','oriport_CLE','oriport_CLL','oriport_CLT','oriport_CMH','oriport_CMI','oriport_CMX','oriport_CNY','oriport_COD','oriport_COS','oriport_COU','oriport_CPR','oriport_CRP','oriport_CRW','oriport_CSG','oriport_CVG','oriport_CWA','oriport_DAB','oriport_DAL','oriport_DAY','oriport_DBQ','oriport_DCA','oriport_DEN','oriport_DFW','oriport_DHN','oriport_DIK','oriport_DLG','oriport_DLH','oriport_DRO','oriport_DSM','oriport_DTW','oriport_DVL','oriport_EAU','oriport_ECP','oriport_EGE','oriport_EKO','oriport_ELM','oriport_ELP','oriport_ERI','oriport_ESC','oriport_EUG','oriport_EVV','oriport_EWN','oriport_EWR','oriport_EYW','oriport_FAI','oriport_FAR','oriport_FAT','oriport_FAY','oriport_FCA','oriport_FLG','oriport_FLL','oriport_FNT','oriport_FSD','oriport_FSM','oriport_FWA','oriport_GCC','oriport_GCK','oriport_GEG','oriport_GFK','oriport_GGG','oriport_GJT','oriport_GNV','oriport_GPT','oriport_GRB','oriport_GRI','oriport_GRK','oriport_GRR','oriport_GSO','oriport_GSP','oriport_GST','oriport_GTF','oriport_GTR','oriport_GUC','oriport_GUM','oriport_HDN','oriport_HIB','oriport_HLN','oriport_HNL','oriport_HOB','oriport_HOU','oriport_HPN','oriport_HRL','oriport_HSV','oriport_HYA','oriport_HYS','oriport_IAD','oriport_IAG','oriport_IAH','oriport_ICT','oriport_IDA','oriport_ILG','oriport_ILM','oriport_IMT','oriport_IND','oriport_INL','oriport_ISN','oriport_ISP','oriport_ITH','oriport_ITO','oriport_JAC','oriport_JAN','oriport_JAX','oriport_JFK','oriport_JLN','oriport_JMS','oriport_JNU','oriport_KOA','oriport_KTN','oriport_LAN','oriport_LAR','oriport_LAS','oriport_LAW','oriport_LAX','oriport_LBB','oriport_LBE','oriport_LCH','oriport_LEX','oriport_LFT','oriport_LGA','oriport_LGB','oriport_LIH','oriport_LIT','oriport_LNK','oriport_LRD','oriport_LSE','oriport_LWS','oriport_MAF','oriport_MBS','oriport_MCI','oriport_MCO','oriport_MDT','oriport_MDW','oriport_MEI','oriport_MEM','oriport_MFE','oriport_MFR','oriport_MGM','oriport_MHK','oriport_MHT','oriport_MIA','oriport_MKE','oriport_MKG','oriport_MLB','oriport_MLI','oriport_MLU','oriport_MMH','oriport_MOB','oriport_MOT','oriport_MQT','oriport_MRY','oriport_MSN','oriport_MSO','oriport_MSP','oriport_MSY','oriport_MTJ','oriport_MVY','oriport_MYR','oriport_OAJ','oriport_OAK','oriport_OGG','oriport_OKC','oriport_OMA','oriport_OME','oriport_ONT','oriport_ORD','oriport_ORF','oriport_ORH','oriport_OTH','oriport_OTZ','oriport_PAH','oriport_PBG','oriport_PBI','oriport_PDX','oriport_PHF','oriport_PHL','oriport_PHX','oriport_PIA','oriport_PIB','oriport_PIH','oriport_PIT','oriport_PLN','oriport_PNS','oriport_PPG','oriport_PSC','oriport_PSE','oriport_PSG','oriport_PSP','oriport_PUB','oriport_PVD','oriport_PWM','oriport_RAP','oriport_RDD','oriport_RDM','oriport_RDU','oriport_RHI','oriport_RIC','oriport_RKS','oriport_RNO','oriport_ROA','oriport_ROC','oriport_ROW','oriport_RST','oriport_RSW','oriport_SAF','oriport_SAN','oriport_SAT','oriport_SAV','oriport_SBA','oriport_SBN','oriport_SBP','oriport_SCC','oriport_SCE','oriport_SDF','oriport_SEA','oriport_SFO','oriport_SGF','oriport_SGU','oriport_SHV','oriport_SIT','oriport_SJC','oriport_SJT','oriport_SJU','oriport_SLC','oriport_SMF','oriport_SMX','oriport_SNA','oriport_SPI','oriport_SPS','oriport_SRQ','oriport_STC','oriport_STL','oriport_STT','oriport_STX','oriport_SUN','oriport_SUX','oriport_SWF','oriport_SYR','oriport_TLH','oriport_TOL','oriport_TPA','oriport_TRI','oriport_TTN','oriport_TUL','oriport_TUS','oriport_TVC','oriport_TWF','oriport_TXK','oriport_TYR','oriport_TYS','oriport_UST','oriport_VEL','oriport_VLD','oriport_VPS','oriport_WRG','oriport_WYS','oriport_XNA','oriport_YAK','oriport_YUM']]\n",
    "y = flights['ARRIVAL_DELAY']"
   ]
  },
  {
   "cell_type": "markdown",
   "metadata": {},
   "source": [
    "Fitting the moddel"
   ]
  },
  {
   "cell_type": "code",
   "execution_count": 11,
   "metadata": {},
   "outputs": [
    {
     "output_type": "stream",
     "name": "stdout",
     "text": [
      "Intercept: \n",
      " 10.576133466056145\n",
      "Coefficients: \n",
      " [1.06510009]\n",
      "                                 OLS Regression Results                                \n",
      "=======================================================================================\n",
      "Dep. Variable:          ARRIVAL_DELAY   R-squared (uncentered):                   0.080\n",
      "Model:                            OLS   Adj. R-squared (uncentered):              0.080\n",
      "Method:                 Least Squares   F-statistic:                          2.465e+05\n",
      "Date:                Tue, 08 Dec 2020   Prob (F-statistic):                        0.00\n",
      "Time:                        13:00:25   Log-Likelihood:                     -1.4354e+07\n",
      "No. Observations:             2818553   AIC:                                  2.871e+07\n",
      "Df Residuals:                 2818552   BIC:                                  2.871e+07\n",
      "Df Model:                           1                                                  \n",
      "Covariance Type:            nonrobust                                                  \n",
      "=====================================================================================\n",
      "                        coef    std err          t      P>|t|      [0.025      0.975]\n",
      "-------------------------------------------------------------------------------------\n",
      "est_elapsed_delay     0.8330      0.002    496.513      0.000       0.830       0.836\n",
      "==============================================================================\n",
      "Omnibus:                  3750254.746   Durbin-Watson:                   1.734\n",
      "Prob(Omnibus):                  0.000   Jarque-Bera (JB):       1633789440.938\n",
      "Skew:                           7.337   Prob(JB):                         0.00\n",
      "Kurtosis:                     120.032   Cond. No.                         1.00\n",
      "==============================================================================\n",
      "\n",
      "Notes:\n",
      "[1] R² is computed without centering (uncentered) since the model does not contain a constant.\n",
      "[2] Standard Errors assume that the covariance matrix of the errors is correctly specified.\n"
     ]
    }
   ],
   "source": [
    "linear1 = LinearRegression().fit(x, y)\n",
    "delay_predictions = linear1.predict(x)\n",
    "print('Intercept: \\n', linear1.intercept_)\n",
    "print('Coefficients: \\n', linear1.coef_)\n",
    "\n",
    "model = sm.OLS(y, x).fit()\n",
    "predictions = model.predict(x) \n",
    "\n",
    "print_model = model.summary() \n",
    "print(print_model)"
   ]
  },
  {
   "cell_type": "code",
   "execution_count": 12,
   "metadata": {
    "tags": []
   },
   "outputs": [
    {
     "output_type": "stream",
     "name": "stdout",
     "text": [
      "Intercept: \n",
      " -520290145865.7662\n",
      "Coefficients: \n",
      " [1.08082193e+00 5.20290146e+11 5.20290146e+11 5.20290146e+11\n",
      " 5.20290146e+11 5.20290146e+11 5.20290146e+11 5.20290146e+11\n",
      " 5.20290146e+11 5.20290146e+11 5.20290146e+11 5.20290146e+11\n",
      " 5.20290146e+11 5.20290146e+11 5.20290146e+11]\n",
      "                            OLS Regression Results                            \n",
      "==============================================================================\n",
      "Dep. Variable:          ARRIVAL_DELAY   R-squared:                       0.129\n",
      "Model:                            OLS   Adj. R-squared:                  0.129\n",
      "Method:                 Least Squares   F-statistic:                 2.974e+04\n",
      "Date:                Tue, 08 Dec 2020   Prob (F-statistic):               0.00\n",
      "Time:                        13:00:29   Log-Likelihood:            -1.4248e+07\n",
      "No. Observations:             2818553   AIC:                         2.850e+07\n",
      "Df Residuals:                 2818538   BIC:                         2.850e+07\n",
      "Df Model:                          14                                         \n",
      "Covariance Type:            nonrobust                                         \n",
      "=====================================================================================\n",
      "                        coef    std err          t      P>|t|      [0.025      0.975]\n",
      "-------------------------------------------------------------------------------------\n",
      "est_elapsed_delay     1.0811      0.002    625.712      0.000       1.078       1.085\n",
      "airline_AA           11.6103      0.075    153.952      0.000      11.462      11.758\n",
      "airline_AS            1.9043      0.132     14.436      0.000       1.646       2.163\n",
      "airline_B6           12.0192      0.107    112.694      0.000      11.810      12.228\n",
      "airline_DL            8.9603      0.060    150.007      0.000       8.843       9.077\n",
      "airline_EV           10.2778      0.071    144.548      0.000      10.138      10.417\n",
      "airline_F9           17.0566      0.185     92.433      0.000      16.695      17.418\n",
      "airline_HA           -0.2502      0.196     -1.279      0.201      -0.634       0.133\n",
      "airline_MQ           13.0048      0.098    132.601      0.000      12.813      13.197\n",
      "airline_NK           18.9130      0.163    116.072      0.000      18.594      19.232\n",
      "airline_OO            8.4084      0.071    118.232      0.000       8.269       8.548\n",
      "airline_UA           16.4840      0.078    211.627      0.000      16.331      16.637\n",
      "airline_US            6.2737      0.086     72.783      0.000       6.105       6.443\n",
      "airline_VX            9.4290      0.224     42.158      0.000       8.991       9.867\n",
      "airline_WN           11.5334      0.050    232.231      0.000      11.436      11.631\n",
      "==============================================================================\n",
      "Omnibus:                  3773725.213   Durbin-Watson:                   1.855\n",
      "Prob(Omnibus):                  0.000   Jarque-Bera (JB):       1711099782.342\n",
      "Skew:                           7.413   Prob(JB):                         0.00\n",
      "Kurtosis:                     122.792   Cond. No.                         138.\n",
      "==============================================================================\n",
      "\n",
      "Notes:\n",
      "[1] Standard Errors assume that the covariance matrix of the errors is correctly specified.\n"
     ]
    }
   ],
   "source": [
    "linear2 = LinearRegression().fit(x2, y)\n",
    "delay_predictions = linear2.predict(x2)\n",
    "print('Intercept: \\n', linear2.intercept_)\n",
    "print('Coefficients: \\n', linear2.coef_)\n",
    "\n",
    "model = sm.OLS(y, x2).fit()\n",
    "predictions = model.predict(x2) \n",
    "\n",
    "print_model = model.summary() \n",
    "print(print_model)"
   ]
  },
  {
   "cell_type": "code",
   "execution_count": 26,
   "metadata": {
    "tags": [
     "outputPrepend"
    ]
   },
   "outputs": [
    {
     "output_type": "stream",
     "name": "stdout",
     "text": [
      "000      11.854      16.802\n",
      "oriport_EKO          -3.5557      2.075     -1.714      0.087      -7.622       0.510\n",
      "oriport_ELM           6.6463      1.160      5.728      0.000       4.372       8.920\n",
      "oriport_ELP           8.9517      0.471     19.015      0.000       8.029       9.874\n",
      "oriport_ERI           7.7621      1.842      4.214      0.000       4.152      11.372\n",
      "oriport_ESC           9.8879      2.200      4.495      0.000       5.577      14.199\n",
      "oriport_EUG           7.3460      0.863      8.517      0.000       5.655       9.037\n",
      "oriport_EVV          10.1946      0.883     11.545      0.000       8.464      11.925\n",
      "oriport_EWN           5.0928      2.226      2.288      0.022       0.730       9.455\n",
      "oriport_EWR          14.5431      0.167     87.034      0.000      14.216      14.871\n",
      "oriport_EYW           5.5460      1.124      4.934      0.000       3.343       7.749\n",
      "oriport_FAI           0.8782      1.143      0.768      0.442      -1.362       3.118\n",
      "oriport_FAR           8.0114      0.706     11.342      0.000       6.627       9.396\n",
      "oriport_FAT          10.7298      0.613     17.497      0.000       9.528      11.932\n",
      "oriport_FAY          10.0486      1.290      7.788      0.000       7.520      12.578\n",
      "oriport_FCA          -0.5220      1.296     -0.403      0.687      -3.061       2.017\n",
      "oriport_FLG           2.9887      1.317      2.269      0.023       0.407       5.570\n",
      "oriport_FLL          11.0601      0.189     58.622      0.000      10.690      11.430\n",
      "oriport_FNT           4.6657      0.756      6.175      0.000       3.185       6.147\n",
      "oriport_FSD          10.0200      0.692     14.487      0.000       8.664      11.376\n",
      "oriport_FSM           9.9618      1.165      8.550      0.000       7.678      12.245\n",
      "oriport_FWA          10.6036      0.740     14.332      0.000       9.154      12.054\n",
      "oriport_GCC           3.4857      1.625      2.145      0.032       0.301       6.671\n",
      "oriport_GCK          10.0131      2.056      4.870      0.000       5.983      14.043\n",
      "oriport_GEG           3.9753      0.534      7.451      0.000       2.930       5.021\n",
      "oriport_GFK           2.7921      2.230      1.252      0.210      -1.578       7.162\n",
      "oriport_GGG          11.9072      2.106      5.653      0.000       7.779      16.035\n",
      "oriport_GJT           3.9430      0.921      4.280      0.000       2.138       5.749\n",
      "oriport_GNV           9.5037      1.005      9.455      0.000       7.534      11.474\n",
      "oriport_GPT           5.4645      0.842      6.487      0.000       3.814       7.115\n",
      "oriport_GRB           6.0006      0.769      7.808      0.000       4.494       7.507\n",
      "oriport_GRI           8.9294      2.106      4.240      0.000       4.801      13.058\n",
      "oriport_GRK           8.1650      0.823      9.924      0.000       6.552       9.778\n",
      "oriport_GRR           9.1292      0.492     18.553      0.000       8.165      10.094\n",
      "oriport_GSO          11.2793      0.616     18.303      0.000      10.072      12.487\n",
      "oriport_GSP           8.3525      0.647     12.905      0.000       7.084       9.621\n",
      "oriport_GST           9.3096      7.751      1.201      0.230      -5.882      24.501\n",
      "oriport_GTF           1.0512      1.216      0.864      0.387      -1.332       3.435\n",
      "oriport_GTR           7.2823      1.707      4.267      0.000       3.937      10.627\n",
      "oriport_GUC           9.1415      2.171      4.211      0.000       4.887      13.396\n",
      "oriport_GUM          25.3107      2.846      8.893      0.000      19.732      30.889\n",
      "oriport_HDN          10.8372      1.705      6.356      0.000       7.496      14.179\n",
      "oriport_HIB           2.5657      1.751      1.465      0.143      -0.867       5.999\n",
      "oriport_HLN           0.3717      1.399      0.266      0.790      -2.370       3.113\n",
      "oriport_HNL           2.9015      0.250     11.627      0.000       2.412       3.391\n",
      "oriport_HOB           6.8709      2.192      3.134      0.002       2.574      11.168\n",
      "oriport_HOU          13.1356      0.230     57.180      0.000      12.685      13.586\n",
      "oriport_HPN          12.0479      0.608     19.805      0.000      10.856      13.240\n",
      "oriport_HRL           4.1568      0.936      4.443      0.000       2.323       5.991\n",
      "oriport_HSV           8.8283      0.765     11.539      0.000       7.329      10.328\n",
      "oriport_HYA          30.0464     10.961      2.741      0.006       8.563      51.530\n",
      "oriport_HYS           3.3696      2.178      1.547      0.122      -0.899       7.638\n",
      "oriport_IAD          14.9863      0.277     54.135      0.000      14.444      15.529\n",
      "oriport_IAG           6.9042      2.846      2.426      0.015       1.326      12.482\n",
      "oriport_IAH          12.7302      0.134     94.736      0.000      12.467      12.994\n",
      "oriport_ICT          11.0900      0.582     19.060      0.000       9.950      12.230\n",
      "oriport_IDA           3.2179      1.137      2.831      0.005       0.990       5.446\n",
      "oriport_ILG          29.9893      3.896      7.698      0.000      22.354      37.625\n",
      "oriport_ILM           8.2550      1.283      6.435      0.000       5.741      10.769\n",
      "oriport_IMT          -0.3721      2.097     -0.177      0.859      -4.481       3.737\n",
      "oriport_IND           8.7449      0.331     26.433      0.000       8.096       9.393\n",
      "oriport_INL           4.4418      2.189      2.030      0.042       0.152       8.731\n",
      "oriport_ISN           4.9063      1.001      4.902      0.000       2.944       6.868\n",
      "oriport_ISP           9.5202      0.787     12.101      0.000       7.978      11.062\n",
      "oriport_ITH           3.6581     12.007      0.305      0.761     -19.876      27.192\n",
      "oriport_ITO          -1.4404      0.680     -2.118      0.034      -2.774      -0.107\n",
      "oriport_JAC           7.7092      0.925      8.331      0.000       5.896       9.523\n",
      "oriport_JAN           9.0709      0.626     14.498      0.000       7.845      10.297\n",
      "oriport_JAX           9.2713      0.390     23.793      0.000       8.508      10.035\n",
      "oriport_JFK          14.4545      0.171     84.477      0.000      14.119      14.790\n",
      "oriport_JLN          13.9632      2.071      6.741      0.000       9.903      18.023\n",
      "oriport_JMS           5.0638      1.887      2.684      0.007       1.366       8.762\n",
      "oriport_JNU           3.4591      0.847      4.083      0.000       1.799       5.119\n",
      "oriport_KOA           1.5797      0.492      3.211      0.001       0.615       2.544\n",
      "oriport_KTN           1.4176      1.108      1.280      0.201      -0.754       3.589\n",
      "oriport_LAN           7.4654      1.242      6.009      0.000       5.030       9.901\n",
      "oriport_LAR           3.0408      2.189      1.389      0.165      -1.249       7.330\n",
      "oriport_LAS          11.4982      0.143     80.595      0.000      11.219      11.778\n",
      "oriport_LAW          13.8624      1.480      9.365      0.000      10.961      16.764\n",
      "oriport_LAX          10.4051      0.118     88.038      0.000      10.173      10.637\n",
      "oriport_LBB           8.5986      0.768     11.193      0.000       7.093      10.104\n",
      "oriport_LBE          11.3454      1.476      7.688      0.000       8.453      14.238\n",
      "oriport_LCH           5.4694      1.220      4.484      0.000       3.079       7.860\n",
      "oriport_LEX           8.6948      0.678     12.829      0.000       7.366      10.023\n",
      "oriport_LFT          10.3662      0.707     14.666      0.000       8.981      11.752\n",
      "oriport_LGA          15.1320      0.165     91.558      0.000      14.808      15.456\n",
      "oriport_LGB           5.7906      0.559     10.367      0.000       4.696       6.885\n",
      "oriport_LIH           0.2528      0.507      0.498      0.618      -0.741       1.247\n",
      "oriport_LIT          11.3875      0.517     22.013      0.000      10.374      12.401\n",
      "oriport_LNK           5.7893      1.034      5.600      0.000       3.763       7.816\n",
      "oriport_LRD           7.2266      1.119      6.457      0.000       5.033       9.420\n",
      "oriport_LSE           6.1603      1.364      4.517      0.000       3.487       8.834\n",
      "oriport_LWS          -3.7653      2.189     -1.720      0.085      -8.055       0.524\n",
      "oriport_MAF           8.4995      0.577     14.740      0.000       7.369       9.630\n",
      "oriport_MBS           7.8693      1.209      6.508      0.000       5.499      10.239\n",
      "oriport_MCI           9.5153      0.265     35.893      0.000       8.996      10.035\n",
      "oriport_MCO          12.3020      0.154     79.715      0.000      12.000      12.604\n",
      "oriport_MDT          10.4022      0.886     11.741      0.000       8.666      12.139\n",
      "oriport_MDW          13.7045      0.186     73.629      0.000      13.340      14.069\n",
      "oriport_MEI          16.3316      1.739      9.394      0.000      12.924      19.739\n",
      "oriport_MEM          10.1302      0.430     23.534      0.000       9.287      10.974\n",
      "oriport_MFE           8.2873      0.815     10.165      0.000       6.689       9.885\n",
      "oriport_MFR           8.1766      1.078      7.583      0.000       6.063      10.290\n",
      "oriport_MGM           8.8009      0.934      9.424      0.000       6.970      10.631\n",
      "oriport_MHK           7.2737      1.323      5.499      0.000       4.681       9.866\n",
      "oriport_MHT           8.0808      0.668     12.095      0.000       6.771       9.390\n",
      "oriport_MIA          11.8220      0.196     60.415      0.000      11.439      12.206\n",
      "oriport_MKE           8.9386      0.302     29.642      0.000       8.348       9.530\n",
      "oriport_MKG           9.4689      2.100      4.509      0.000       5.353      13.584\n",
      "oriport_MLB           7.7393      1.420      5.450      0.000       4.956      10.523\n",
      "oriport_MLI          10.0098      0.826     12.118      0.000       8.391      11.629\n",
      "oriport_MLU          10.5200      0.974     10.805      0.000       8.612      12.428\n",
      "oriport_MMH           6.8289      3.330      2.051      0.040       0.302      13.356\n",
      "oriport_MOB           8.6717      0.741     11.699      0.000       7.219      10.124\n",
      "oriport_MOT           5.0396      1.296      3.888      0.000       2.499       7.580\n",
      "oriport_MQT           8.5635      3.100      2.762      0.006       2.487      14.640\n",
      "oriport_MRY           7.3310      0.949      7.728      0.000       5.472       9.190\n",
      "oriport_MSN           6.6189      0.549     12.061      0.000       5.543       7.695\n",
      "oriport_MSO          -0.3047      1.235     -0.247      0.805      -2.726       2.116\n",
      "oriport_MSP           8.2158      0.158     52.109      0.000       7.907       8.525\n",
      "oriport_MSY          10.3478      0.262     39.571      0.000       9.835      10.860\n",
      "oriport_MTJ           7.5864      1.593      4.762      0.000       4.464      10.709\n",
      "oriport_MVY          32.0030      5.167      6.194      0.000      21.876      42.131\n",
      "oriport_MYR          10.3098      0.750     13.746      0.000       8.840      11.780\n",
      "oriport_OAJ           6.9740      1.542      4.521      0.000       3.951       9.997\n",
      "oriport_OAK           8.5322      0.256     33.320      0.000       8.030       9.034\n",
      "oriport_OGG           4.1287      0.360     11.466      0.000       3.423       4.834\n",
      "oriport_OKC          10.3633      0.421     24.608      0.000       9.538      11.189\n",
      "oriport_OMA           8.4950      0.400     21.262      0.000       7.712       9.278\n",
      "oriport_OME           3.5883      2.044      1.755      0.079      -0.418       7.595\n",
      "oriport_ONT           8.8137      0.389     22.686      0.000       8.052       9.575\n",
      "oriport_ORD          16.1637      0.100    161.899      0.000      15.968      16.359\n",
      "oriport_ORF          10.8467      0.544     19.939      0.000       9.780      11.913\n",
      "oriport_ORH           1.3957      2.068      0.675      0.500      -2.658       5.450\n",
      "oriport_OTH          15.4670      3.541      4.368      0.000       8.527      22.407\n",
      "oriport_OTZ           1.7283      2.035      0.849      0.396      -2.261       5.718\n",
      "oriport_PAH           9.1070      2.081      4.377      0.000       5.029      13.185\n",
      "oriport_PBG          13.5546      3.030      4.473      0.000       7.615      19.494\n",
      "oriport_PBI          12.5425      0.335     37.496      0.000      11.887      13.198\n",
      "oriport_PDX           5.1907      0.249     20.858      0.000       4.703       5.678\n",
      "oriport_PHF          11.3975      1.464      7.787      0.000       8.529      14.266\n",
      "oriport_PHL          11.7865      0.205     57.386      0.000      11.384      12.189\n",
      "oriport_PHX           9.1184      0.134     67.943      0.000       8.855       9.381\n",
      "oriport_PIA          10.6955      0.797     13.415      0.000       9.133      12.258\n",
      "oriport_PIB          13.4784      2.181      6.179      0.000       9.203      17.754\n",
      "oriport_PIH          -1.9903      2.062     -0.965      0.335      -6.032       2.052\n",
      "oriport_PIT           7.2681      0.335     21.664      0.000       6.611       7.926\n",
      "oriport_PLN          12.4463      2.047      6.080      0.000       8.434      16.459\n",
      "oriport_PNS           9.1348      0.636     14.368      0.000       7.889      10.381\n",
      "oriport_PPG          14.1472      5.167      2.738      0.006       4.020      24.275\n",
      "oriport_PSC           1.1123      1.135      0.980      0.327      -1.112       3.337\n",
      "oriport_PSE           3.8542      1.945      1.981      0.048       0.041       7.667\n",
      "oriport_PSG           5.2795      2.018      2.616      0.009       1.324       9.235\n",
      "oriport_PSP           8.7049      0.498     17.468      0.000       7.728       9.682\n",
      "oriport_PUB           1.8682      2.387      0.783      0.434      -2.811       6.547\n",
      "oriport_PVD           8.5472      0.506     16.886      0.000       7.555       9.539\n",
      "oriport_PWM          10.6671      0.835     12.774      0.000       9.030      12.304\n",
      "oriport_RAP           5.4142      0.970      5.579      0.000       3.512       7.316\n",
      "oriport_RDD           6.0753      1.875      3.240      0.001       2.400       9.751\n",
      "oriport_RDM           2.5075      1.162      2.157      0.031       0.229       4.786\n",
      "oriport_RDU          10.4164      0.296     35.219      0.000       9.837      10.996\n",
      "oriport_RHI           0.6572      1.686      0.390      0.697      -2.648       3.962\n",
      "oriport_RIC          10.4642      0.438     23.876      0.000       9.605      11.323\n",
      "oriport_RKS           3.5004      1.911      1.832      0.067      -0.244       7.245\n",
      "oriport_RNO           7.3628      0.456     16.158      0.000       6.470       8.256\n",
      "oriport_ROA           8.7620      1.123      7.802      0.000       6.561      10.963\n",
      "oriport_ROC           8.7201      0.612     14.241      0.000       7.520       9.920\n",
      "oriport_ROW          11.4984      1.712      6.717      0.000       8.143      14.854\n",
      "oriport_RST           9.6054      1.163      8.259      0.000       7.326      11.885\n",
      "oriport_RSW           9.3674      0.292     32.083      0.000       8.795       9.940\n",
      "oriport_SAF          11.3151      1.273      8.885      0.000       8.819      13.811\n",
      "oriport_SAN           8.3139      0.197     42.308      0.000       7.929       8.699\n",
      "oriport_SAT           9.1784      0.299     30.710      0.000       8.593       9.764\n",
      "oriport_SAV          12.7618      0.598     21.359      0.000      11.591      13.933\n",
      "oriport_SBA           7.1551      0.673     10.638      0.000       5.837       8.473\n",
      "oriport_SBN          12.1878      0.777     15.682      0.000      10.665      13.711\n",
      "oriport_SBP           6.8658      0.859      7.995      0.000       5.183       8.549\n",
      "oriport_SCC           0.1371      1.804      0.076      0.939      -3.399       3.673\n",
      "oriport_SCE          13.7412      1.864      7.372      0.000      10.088      17.394\n",
      "oriport_SDF          10.0248      0.506     19.811      0.000       9.033      11.017\n",
      "oriport_SEA           6.2418      0.161     38.791      0.000       5.926       6.557\n",
      "oriport_SFO          11.0963      0.137     80.866      0.000      10.827      11.365\n",
      "oriport_SGF          11.7000      0.638     18.331      0.000      10.449      12.951\n",
      "oriport_SGU           2.9342      1.225      2.396      0.017       0.534       5.335\n",
      "oriport_SHV          13.5453      0.677     20.021      0.000      12.219      14.871\n",
      "oriport_SIT           1.0852      1.503      0.722      0.470      -1.861       4.032\n",
      "oriport_SJC           6.7854      0.267     25.442      0.000       6.263       7.308\n",
      "oriport_SJT          11.8732      1.320      8.998      0.000       9.287      14.459\n",
      "oriport_SJU          11.0228      0.331     33.285      0.000      10.374      11.672\n",
      "oriport_SLC           4.8899      0.166     29.384      0.000       4.564       5.216\n",
      "oriport_SMF           8.3336      0.270     30.816      0.000       7.804       8.864\n",
      "oriport_SMX          12.4414      2.010      6.191      0.000       8.503      16.380\n",
      "oriport_SNA           6.6572      0.274     24.319      0.000       6.121       7.194\n",
      "oriport_SPI          10.5478      1.343      7.852      0.000       7.915      13.181\n",
      "oriport_SPS          11.3886      1.500      7.594      0.000       8.449      14.328\n",
      "oriport_SRQ          11.2197      0.849     13.210      0.000       9.555      12.884\n",
      "oriport_STC          18.3003      4.327      4.229      0.000       9.819      26.781\n",
      "oriport_STL          10.7441      0.242     44.425      0.000      10.270      11.218\n",
      "oriport_STT          11.7418      0.754     15.577      0.000      10.264      13.219\n",
      "oriport_STX           7.3879      1.643      4.496      0.000       4.167      10.608\n",
      "oriport_SUN           1.7275      1.848      0.935      0.350      -1.895       5.350\n",
      "oriport_SUX           9.0804      2.136      4.251      0.000       4.894      13.267\n",
      "oriport_SWF           9.6549      1.971      4.898      0.000       5.791      13.519\n",
      "oriport_SYR           7.5176      0.737     10.203      0.000       6.074       8.962\n",
      "oriport_TLH           8.3572      0.896      9.322      0.000       6.600      10.114\n",
      "oriport_TOL           5.3157      1.735      3.064      0.002       1.915       8.716\n",
      "oriport_TPA          10.7082      0.202     53.106      0.000      10.313      11.103\n",
      "oriport_TRI           5.6902      1.185      4.802      0.000       3.368       8.012\n",
      "oriport_TTN          18.5774      1.007     18.443      0.000      16.603      20.552\n",
      "oriport_TUL           8.4103      0.438     19.217      0.000       7.552       9.268\n",
      "oriport_TUS           5.7404      0.410     14.000      0.000       4.937       6.544\n",
      "oriport_TVC           6.1424      1.047      5.868      0.000       4.091       8.194\n",
      "oriport_TWF          -4.3936      1.906     -2.305      0.021      -8.129      -0.658\n",
      "oriport_TXK           5.4111      1.728      3.132      0.002       2.025       8.797\n",
      "oriport_TYR          12.2326      1.121     10.915      0.000      10.036      14.429\n",
      "oriport_TYS          11.8047      0.629     18.757      0.000      10.571      13.038\n",
      "oriport_UST          14.7845      4.385      3.372      0.001       6.191      23.378\n",
      "oriport_VEL          -3.4510      2.685     -1.285      0.199      -8.713       1.811\n",
      "oriport_VLD           6.2717      1.693      3.704      0.000       2.953       9.590\n",
      "oriport_VPS          12.8028      0.756     16.926      0.000      11.320      14.285\n",
      "oriport_WRG           3.4976      2.027      1.726      0.084      -0.475       7.470\n",
      "oriport_WYS           6.6524      5.317      1.251      0.211      -3.769      17.073\n",
      "oriport_XNA          14.0945      0.552     25.537      0.000      13.013      15.176\n",
      "oriport_YAK          -6.5719      2.024     -3.247      0.001     -10.539      -2.605\n",
      "oriport_YUM           3.7069      1.187      3.124      0.002       1.381       6.033\n",
      "==============================================================================\n",
      "Omnibus:                  3775192.270   Durbin-Watson:                   1.854\n",
      "Prob(Omnibus):                  0.000   Jarque-Bera (JB):       1711486088.436\n",
      "Skew:                           7.419   Prob(JB):                         0.00\n",
      "Kurtosis:                     122.805   Cond. No.                     7.43e+03\n",
      "==============================================================================\n",
      "\n",
      "Notes:\n",
      "[1] Standard Errors assume that the covariance matrix of the errors is correctly specified.\n",
      "[2] The condition number is large, 7.43e+03. This might indicate that there are\n",
      "strong multicollinearity or other numerical problems.\n"
     ]
    }
   ],
   "source": [
    "linear3 = LinearRegression().fit(x3, y)\n",
    "delay_predictions = linear3.predict(x3)\n",
    "print('Intercept: \\n', linear3.intercept_)\n",
    "print('Coefficients: \\n', linear3.coef_)\n",
    "\n",
    "model = sm.OLS(y, x3).fit()\n",
    "predictions = model.predict(x3) \n",
    "\n",
    "print_model = model.summary() \n",
    "print(print_model)"
   ]
  },
  {
   "source": [
    "## Predicting delay only"
   ],
   "cell_type": "markdown",
   "metadata": {}
  },
  {
   "cell_type": "code",
   "execution_count": 20,
   "metadata": {},
   "outputs": [],
   "source": [
    "flights_delay = flights[flights[\"ARRIVAL_DELAY\"]>0]\n",
    "x = flights_delay[[\"est_elapsed_delay\"]]\n",
    "\n",
    "## x2: dummies airlines + est_elapsed_delay\n",
    "x2 = flights_delay[['est_elapsed_delay', 'airline_AA','airline_AS','airline_B6','airline_DL','airline_EV','airline_F9','airline_HA','airline_MQ','airline_NK','airline_OO','airline_UA','airline_US','airline_VX','airline_WN']]\n",
    "y = flights_delay['ARRIVAL_DELAY']"
   ]
  },
  {
   "cell_type": "code",
   "execution_count": 18,
   "metadata": {},
   "outputs": [
    {
     "output_type": "stream",
     "name": "stdout",
     "text": [
      "Intercept: \n 42.553576848254494\nCoefficients: \n [0.10921568]\n                                 OLS Regression Results                                \n=======================================================================================\nDep. Variable:          ARRIVAL_DELAY   R-squared (uncentered):                   0.026\nModel:                            OLS   Adj. R-squared (uncentered):              0.026\nMethod:                 Least Squares   F-statistic:                          2.280e+04\nDate:                Tue, 08 Dec 2020   Prob (F-statistic):                        0.00\nTime:                        13:03:26   Log-Likelihood:                     -4.8338e+06\nNo. Observations:              850965   AIC:                                  9.668e+06\nDf Residuals:                  850964   BIC:                                  9.668e+06\nDf Model:                           1                                                  \nCovariance Type:            nonrobust                                                  \n=====================================================================================\n                        coef    std err          t      P>|t|      [0.025      0.975]\n-------------------------------------------------------------------------------------\nest_elapsed_delay     0.6606      0.004    150.986      0.000       0.652       0.669\n==============================================================================\nOmnibus:                   901554.809   Durbin-Watson:                   1.278\nProb(Omnibus):                  0.000   Jarque-Bera (JB):        121628614.193\nSkew:                           5.140   Prob(JB):                         0.00\nKurtosis:                      60.660   Cond. No.                         1.00\n==============================================================================\n\nNotes:\n[1] R² is computed without centering (uncentered) since the model does not contain a constant.\n[2] Standard Errors assume that the covariance matrix of the errors is correctly specified.\n"
     ]
    }
   ],
   "source": [
    "linear1 = LinearRegression().fit(x, y)\n",
    "delay_predictions = linear1.predict(x)\n",
    "print('Intercept: \\n', linear1.intercept_)\n",
    "print('Coefficients: \\n', linear1.coef_)\n",
    "\n",
    "model = sm.OLS(y, x).fit()\n",
    "predictions = model.predict(x) \n",
    "\n",
    "print_model = model.summary() \n",
    "print(print_model)"
   ]
  },
  {
   "cell_type": "code",
   "execution_count": 19,
   "metadata": {},
   "outputs": [
    {
     "output_type": "stream",
     "name": "stdout",
     "text": [
      "Intercept: \n",
      " 42.04664881965742\n",
      "Coefficients: \n",
      " [  0.10063024   3.66495091 -10.39512097   6.07925204   1.35799824\n",
      "   3.23755932  10.19056695 -20.57337467   5.73914984   9.9962256\n",
      "   0.43202788   4.54551674  -7.43380807  -2.40833695  -4.43260685]\n",
      "                            OLS Regression Results                            \n",
      "==============================================================================\n",
      "Dep. Variable:          ARRIVAL_DELAY   R-squared:                       0.010\n",
      "Model:                            OLS   Adj. R-squared:                  0.010\n",
      "Method:                 Least Squares   F-statistic:                     587.4\n",
      "Date:                Tue, 08 Dec 2020   Prob (F-statistic):               0.00\n",
      "Time:                        13:03:31   Log-Likelihood:            -4.6524e+06\n",
      "No. Observations:              850965   AIC:                         9.305e+06\n",
      "Df Residuals:                  850950   BIC:                         9.305e+06\n",
      "Df Model:                          14                                         \n",
      "Covariance Type:            nonrobust                                         \n",
      "=====================================================================================\n",
      "                        coef    std err          t      P>|t|      [0.025      0.975]\n",
      "-------------------------------------------------------------------------------------\n",
      "est_elapsed_delay     0.1006      0.004     27.293      0.000       0.093       0.108\n",
      "airline_AA           45.7116      0.204    223.959      0.000      45.312      46.112\n",
      "airline_AS           31.6515      0.424     74.575      0.000      30.820      32.483\n",
      "airline_B6           48.1259      0.286    168.044      0.000      47.565      48.687\n",
      "airline_DL           43.4046      0.185    235.233      0.000      43.043      43.766\n",
      "airline_EV           45.2842      0.190    238.117      0.000      44.911      45.657\n",
      "airline_F9           52.2372      0.425    122.804      0.000      51.404      53.071\n",
      "airline_HA           21.4733      0.591     36.326      0.000      20.315      22.632\n",
      "airline_MQ           47.7858      0.245    195.025      0.000      47.306      48.266\n",
      "airline_NK           52.0429      0.374    139.012      0.000      51.309      52.777\n",
      "airline_OO           42.4787      0.198    214.462      0.000      42.090      42.867\n",
      "airline_UA           46.5922      0.200    232.420      0.000      46.199      46.985\n",
      "airline_US           34.6128      0.241    143.684      0.000      34.141      35.085\n",
      "airline_VX           39.6383      0.618     64.135      0.000      38.427      40.850\n",
      "airline_WN           37.6140      0.133    282.345      0.000      37.353      37.875\n",
      "==============================================================================\n",
      "Omnibus:                   919330.068   Durbin-Watson:                   1.891\n",
      "Prob(Omnibus):                  0.000   Jarque-Bera (JB):        134069561.387\n",
      "Skew:                           5.294   Prob(JB):                         0.00\n",
      "Kurtosis:                      63.573   Cond. No.                         175.\n",
      "==============================================================================\n",
      "\n",
      "Notes:\n",
      "[1] Standard Errors assume that the covariance matrix of the errors is correctly specified.\n"
     ]
    }
   ],
   "source": [
    "linear2 = LinearRegression().fit(x2, y)\n",
    "delay_predictions = linear2.predict(x2)\n",
    "print('Intercept: \\n', linear2.intercept_)\n",
    "print('Coefficients: \\n', linear2.coef_)\n",
    "\n",
    "model = sm.OLS(y, x2).fit()\n",
    "predictions = model.predict(x2) \n",
    "\n",
    "print_model = model.summary() \n",
    "print(print_model)"
   ]
  },
  {
   "cell_type": "markdown",
   "metadata": {},
   "source": [
    "# Visualisation"
   ]
  },
  {
   "cell_type": "code",
   "execution_count": 20,
   "metadata": {},
   "outputs": [
    {
     "data": {
      "text/plain": [
       "(array([ 12748.,   3580., 271036., 373408., 292031., 370673., 326452.,\n",
       "        329872., 275315.,  70591.]),\n",
       " array([1.0000e+00, 2.4090e+02, 4.8080e+02, 7.2070e+02, 9.6060e+02,\n",
       "        1.2005e+03, 1.4404e+03, 1.6803e+03, 1.9202e+03, 2.1601e+03,\n",
       "        2.4000e+03]),\n",
       " <a list of 10 Patch objects>)"
      ]
     },
     "execution_count": 20,
     "metadata": {},
     "output_type": "execute_result"
    },
    {
     "data": {
      "image/png": "[encoded data removed]",
      "text/plain": [
       "<Figure size 432x288 with 1 Axes>"
      ]
     },
     "metadata": {
      "needs_background": "light"
     },
     "output_type": "display_data"
    }
   ],
   "source": [
    "plt.hist(flights['DEPARTURE_TIME'])"
   ]
  },
  {
   "cell_type": "code",
   "execution_count": null,
   "metadata": {},
   "outputs": [],
   "source": []
  }
 ],
 "metadata": {
  "kernelspec": {
   "display_name": "Python 3",
   "language": "python",
   "name": "python3"
  },
  "language_info": {
   "codemirror_mode": {
    "name": "ipython",
    "version": 3
   },
   "file_extension": ".py",
   "mimetype": "text/x-python",
   "name": "python",
   "nbconvert_exporter": "python",
   "pygments_lexer": "ipython3",
   "version": "3.8.5-final"
  }
 },
 "nbformat": 4,
 "nbformat_minor": 2
}