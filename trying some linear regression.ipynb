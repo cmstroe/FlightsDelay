{
 "cells": [
  {
   "cell_type": "markdown",
   "metadata": {},
   "source": [
    "# Predicting flight delays"
   ]
  },
  {
   "cell_type": "markdown",
   "metadata": {},
   "source": [
    "This notebook is a start to predict the delays of flights from a 2015 dataset"
   ]
  },
  {
   "cell_type": "code",
   "execution_count": 2,
   "metadata": {},
   "outputs": [],
   "source": [
    "import pandas as pd\n",
    "import numpy as np\n",
    "import os\n",
    "import matplotlib.pyplot as plt\n",
    "import matplotlib as mpl\n",
    "import statsmodels.api as sm\n",
    "from sklearn.linear_model import LinearRegression"
   ]
  },
  {
   "cell_type": "code",
   "execution_count": null,
   "metadata": {},
   "outputs": [],
   "source": [
    "#macbook\n",
    "airlines = pd.read_csv(os.path.abspath(\"airlines.csv\"))\n",
    "airports = pd.read_csv(os.path.abspath(\"airports.csv\"))\n",
    "flights = pd.read_csv(os.path.abspath(\"flights_train.csv\"))"
   ]
  },
  {
   "cell_type": "code",
   "execution_count": 33,
   "metadata": {},
   "outputs": [],
   "source": [
    "airlines = pd.read_csv(\"data\\\\airlines.csv\")\n",
    "airports = pd.read_csv(\"data\\\\airports.csv\")\n",
    "flights_original = pd.read_csv(\"data\\\\flights_train.csv\")\n",
    "flights = flights_original"
   ]
  },
  {
   "cell_type": "markdown",
   "metadata": {},
   "source": [
    "## Inspecting the data"
   ]
  },
  {
   "cell_type": "code",
   "execution_count": 3,
   "metadata": {},
   "outputs": [
    {
     "name": "stdout",
     "output_type": "stream",
     "text": [
      " the amount of delays in the set is: 895684 \n",
      " the amount of no delays in the set is: 1430022\n"
     ]
    }
   ],
   "source": [
    "delays = flights['ARRIVAL_DELAY']\n",
    "\n",
    "counter_delay = 0\n",
    "counter_no_delay = 0 \n",
    "for delay in delays:\n",
    "    if delay <= 0:\n",
    "        counter_no_delay += 1\n",
    "    if delay > 0:\n",
    "        counter_delay += 1\n",
    "print(f' the amount of delays in the set is: {counter_delay} \\n the amount of no delays in the set is: {counter_no_delay}')\n"
   ]
  },
  {
   "cell_type": "code",
   "execution_count": 23,
   "metadata": {},
   "outputs": [
    {
     "output_type": "execute_result",
     "data": {
      "text/plain": [
       "   id  YEAR  MONTH  DAY  DAY_OF_WEEK AIRLINE  FLIGHT_NUMBER TAIL_NUMBER  \\\n",
       "0   0  2015      1    1            4      AS             98      N407AS   \n",
       "1   1  2015      1    1            4      AA           2336      N3KUAA   \n",
       "2   2  2015      1    1            4      US            840      N171US   \n",
       "3   3  2015      1    1            4      AA            258      N3HYAA   \n",
       "4   4  2015      1    1            4      AS            135      N527AS   \n",
       "\n",
       "  ORIGIN_AIRPORT DESTINATION_AIRPORT  ...  DEPARTURE_TIME  TAXI_OUT  \\\n",
       "0            ANC                 SEA  ...          2354.0      21.0   \n",
       "1            LAX                 PBI  ...             2.0      12.0   \n",
       "2            SFO                 CLT  ...            18.0      16.0   \n",
       "3            LAX                 MIA  ...            15.0      15.0   \n",
       "4            SEA                 ANC  ...            24.0      11.0   \n",
       "\n",
       "   WHEELS_OFF  SCHEDULED_TIME  ELAPSED_TIME  AIR_TIME  DISTANCE  \\\n",
       "0        15.0           205.0         194.0     169.0      1448   \n",
       "1        14.0           280.0         279.0     263.0      2330   \n",
       "2        34.0           286.0         293.0     266.0      2296   \n",
       "3        30.0           285.0         281.0     258.0      2342   \n",
       "4        35.0           235.0         215.0     199.0      1448   \n",
       "\n",
       "   SCHEDULED_ARRIVAL  ARRIVAL_DELAY  est_elapsed_delay  \n",
       "0                430          -22.0              -11.0  \n",
       "1                750           -9.0               -1.0  \n",
       "2                806            5.0                7.0  \n",
       "3                805           -9.0               -4.0  \n",
       "4                320          -21.0              -20.0  \n",
       "\n",
       "[5 rows x 21 columns]"
      ],
      "text/html": "<div>\n<style scoped>\n    .dataframe tbody tr th:only-of-type {\n        vertical-align: middle;\n    }\n\n    .dataframe tbody tr th {\n        vertical-align: top;\n    }\n\n    .dataframe thead th {\n        text-align: right;\n    }\n</style>\n<table border=\"1\" class=\"dataframe\">\n  <thead>\n    <tr style=\"text-align: right;\">\n      <th></th>\n      <th>id</th>\n      <th>YEAR</th>\n      <th>MONTH</th>\n      <th>DAY</th>\n      <th>DAY_OF_WEEK</th>\n      <th>AIRLINE</th>\n      <th>FLIGHT_NUMBER</th>\n      <th>TAIL_NUMBER</th>\n      <th>ORIGIN_AIRPORT</th>\n      <th>DESTINATION_AIRPORT</th>\n      <th>...</th>\n      <th>DEPARTURE_TIME</th>\n      <th>TAXI_OUT</th>\n      <th>WHEELS_OFF</th>\n      <th>SCHEDULED_TIME</th>\n      <th>ELAPSED_TIME</th>\n      <th>AIR_TIME</th>\n      <th>DISTANCE</th>\n      <th>SCHEDULED_ARRIVAL</th>\n      <th>ARRIVAL_DELAY</th>\n      <th>est_elapsed_delay</th>\n    </tr>\n  </thead>\n  <tbody>\n    <tr>\n      <th>0</th>\n      <td>0</td>\n      <td>2015</td>\n      <td>1</td>\n      <td>1</td>\n      <td>4</td>\n      <td>AS</td>\n      <td>98</td>\n      <td>N407AS</td>\n      <td>ANC</td>\n      <td>SEA</td>\n      <td>...</td>\n      <td>2354.0</td>\n      <td>21.0</td>\n      <td>15.0</td>\n      <td>205.0</td>\n      <td>194.0</td>\n      <td>169.0</td>\n      <td>1448</td>\n      <td>430</td>\n      <td>-22.0</td>\n      <td>-11.0</td>\n    </tr>\n    <tr>\n      <th>1</th>\n      <td>1</td>\n      <td>2015</td>\n      <td>1</td>\n      <td>1</td>\n      <td>4</td>\n      <td>AA</td>\n      <td>2336</td>\n      <td>N3KUAA</td>\n      <td>LAX</td>\n      <td>PBI</td>\n      <td>...</td>\n      <td>2.0</td>\n      <td>12.0</td>\n      <td>14.0</td>\n      <td>280.0</td>\n      <td>279.0</td>\n      <td>263.0</td>\n      <td>2330</td>\n      <td>750</td>\n      <td>-9.0</td>\n      <td>-1.0</td>\n    </tr>\n    <tr>\n      <th>2</th>\n      <td>2</td>\n      <td>2015</td>\n      <td>1</td>\n      <td>1</td>\n      <td>4</td>\n      <td>US</td>\n      <td>840</td>\n      <td>N171US</td>\n      <td>SFO</td>\n      <td>CLT</td>\n      <td>...</td>\n      <td>18.0</td>\n      <td>16.0</td>\n      <td>34.0</td>\n      <td>286.0</td>\n      <td>293.0</td>\n      <td>266.0</td>\n      <td>2296</td>\n      <td>806</td>\n      <td>5.0</td>\n      <td>7.0</td>\n    </tr>\n    <tr>\n      <th>3</th>\n      <td>3</td>\n      <td>2015</td>\n      <td>1</td>\n      <td>1</td>\n      <td>4</td>\n      <td>AA</td>\n      <td>258</td>\n      <td>N3HYAA</td>\n      <td>LAX</td>\n      <td>MIA</td>\n      <td>...</td>\n      <td>15.0</td>\n      <td>15.0</td>\n      <td>30.0</td>\n      <td>285.0</td>\n      <td>281.0</td>\n      <td>258.0</td>\n      <td>2342</td>\n      <td>805</td>\n      <td>-9.0</td>\n      <td>-4.0</td>\n    </tr>\n    <tr>\n      <th>4</th>\n      <td>4</td>\n      <td>2015</td>\n      <td>1</td>\n      <td>1</td>\n      <td>4</td>\n      <td>AS</td>\n      <td>135</td>\n      <td>N527AS</td>\n      <td>SEA</td>\n      <td>ANC</td>\n      <td>...</td>\n      <td>24.0</td>\n      <td>11.0</td>\n      <td>35.0</td>\n      <td>235.0</td>\n      <td>215.0</td>\n      <td>199.0</td>\n      <td>1448</td>\n      <td>320</td>\n      <td>-21.0</td>\n      <td>-20.0</td>\n    </tr>\n  </tbody>\n</table>\n<p>5 rows × 21 columns</p>\n</div>"
     },
     "metadata": {},
     "execution_count": 23
    }
   ],
   "source": [
    "flights_original.head()"
   ]
  },
  {
   "cell_type": "markdown",
   "metadata": {},
   "source": [
    "## Making some extra variables that might be nice"
   ]
  },
  {
   "cell_type": "code",
   "execution_count": 34,
   "metadata": {},
   "outputs": [],
   "source": [
    "flights['est_elapsed_delay']= flights['ELAPSED_TIME'] - flights['SCHEDULED_TIME']\n"
   ]
  },
  {
   "source": [
    "## dummies"
   ],
   "cell_type": "markdown",
   "metadata": {}
  },
  {
   "source": [
    "First we create dummies for airlines and airports"
   ],
   "cell_type": "markdown",
   "metadata": {}
  },
  {
   "cell_type": "code",
   "execution_count": 50,
   "metadata": {},
   "outputs": [
    {
     "output_type": "execute_result",
     "data": {
      "text/plain": [
       "<bound method NDFrame.head of               id  YEAR  MONTH  DAY  DAY_OF_WEEK AIRLINE  FLIGHT_NUMBER  \\\n",
       "0              0  2015      1    1            4      AS             98   \n",
       "1              1  2015      1    1            4      AA           2336   \n",
       "2              2  2015      1    1            4      US            840   \n",
       "3              3  2015      1    1            4      AA            258   \n",
       "4              4  2015      1    1            4      AS            135   \n",
       "...          ...   ...    ...  ...          ...     ...            ...   \n",
       "2818548  2818548  2015      6   30            2      UA           1180   \n",
       "2818549  2818549  2015      6   30            2      UA           1192   \n",
       "2818550  2818550  2015      6   30            2      UA           1480   \n",
       "2818551  2818551  2015      6   30            2      UA           1637   \n",
       "2818552  2818552  2015      6   30            2      UA           1903   \n",
       "\n",
       "        TAIL_NUMBER ORIGIN_AIRPORT DESTINATION_AIRPORT  ...  destiport_TYS  \\\n",
       "0            N407AS            ANC                 SEA  ...              0   \n",
       "1            N3KUAA            LAX                 PBI  ...              0   \n",
       "2            N171US            SFO                 CLT  ...              0   \n",
       "3            N3HYAA            LAX                 MIA  ...              0   \n",
       "4            N527AS            SEA                 ANC  ...              0   \n",
       "...             ...            ...                 ...  ...            ...   \n",
       "2818548      N65832            LAX                 ORD  ...              0   \n",
       "2818549      N69839            LAX                 IAH  ...              0   \n",
       "2818550      N37298            PDX                 IAH  ...              0   \n",
       "2818551      N35260            SEA                 IAH  ...              0   \n",
       "2818552      N35271            IAH                 SJU  ...              0   \n",
       "\n",
       "         destiport_UST  destiport_VEL  destiport_VLD  destiport_VPS  \\\n",
       "0                    0              0              0              0   \n",
       "1                    0              0              0              0   \n",
       "2                    0              0              0              0   \n",
       "3                    0              0              0              0   \n",
       "4                    0              0              0              0   \n",
       "...                ...            ...            ...            ...   \n",
       "2818548              0              0              0              0   \n",
       "2818549              0              0              0              0   \n",
       "2818550              0              0              0              0   \n",
       "2818551              0              0              0              0   \n",
       "2818552              0              0              0              0   \n",
       "\n",
       "         destiport_WRG  destiport_WYS  destiport_XNA  destiport_YAK  \\\n",
       "0                    0              0              0              0   \n",
       "1                    0              0              0              0   \n",
       "2                    0              0              0              0   \n",
       "3                    0              0              0              0   \n",
       "4                    0              0              0              0   \n",
       "...                ...            ...            ...            ...   \n",
       "2818548              0              0              0              0   \n",
       "2818549              0              0              0              0   \n",
       "2818550              0              0              0              0   \n",
       "2818551              0              0              0              0   \n",
       "2818552              0              0              0              0   \n",
       "\n",
       "         destiport_YUM  \n",
       "0                    0  \n",
       "1                    0  \n",
       "2                    0  \n",
       "3                    0  \n",
       "4                    0  \n",
       "...                ...  \n",
       "2818548              0  \n",
       "2818549              0  \n",
       "2818550              0  \n",
       "2818551              0  \n",
       "2818552              0  \n",
       "\n",
       "[2818553 rows x 679 columns]>"
      ]
     },
     "metadata": {},
     "execution_count": 50
    }
   ],
   "source": [
    "flights = flights_original\n",
    "# airlines\n",
    "dummies_airline = pd.get_dummies(flights.AIRLINE, prefix = \"airline\")\n",
    "# origins\n",
    "dummies_oriport = pd.get_dummies(flights.ORIGIN_AIRPORT, prefix = \"oriport\")\n",
    "# destinations\n",
    "dummies_destiport = pd.get_dummies(flights.DESTINATION_AIRPORT, prefix = \"destiport\")\n",
    "flights = pd.concat([flights, dummies_airline, dummies_oriport, dummies_destiport], axis =1)\n",
    "flights.head"
   ]
  },
  {
   "cell_type": "code",
   "execution_count": 48,
   "metadata": {},
   "outputs": [],
   "source": [
    "columns=flights.columns\n",
    "dummies_cols=list(columns[21:])\n"
   ]
  },
  {
   "cell_type": "markdown",
   "metadata": {},
   "source": [
    "## Fitting a linear model"
   ]
  },
  {
   "cell_type": "code",
   "execution_count": 54,
   "metadata": {},
   "outputs": [],
   "source": [
    "x = flights[[\"est_elapsed_delay\"]]\n",
    "\n",
    "## x2: dummies airlines + est_elapsed_delay\n",
    "x2 = flights[['est_elapsed_delay', 'airline_AA','airline_AS','airline_B6','airline_DL','airline_EV','airline_F9','airline_HA','airline_MQ','airline_NK','airline_OO','airline_UA','airline_US','airline_VX','airline_WN']]\n",
    "y = flights['ARRIVAL_DELAY']"
   ]
  },
  {
   "cell_type": "markdown",
   "metadata": {},
   "source": [
    "Fitting the moddel"
   ]
  },
  {
   "cell_type": "code",
   "execution_count": 55,
   "metadata": {
    "tags": []
   },
   "outputs": [
    {
     "output_type": "stream",
     "name": "stdout",
     "text": [
      "Intercept: \n",
      " -520290145865.7662\n",
      "Coefficients: \n",
      " [1.08082193e+00 5.20290146e+11 5.20290146e+11 5.20290146e+11\n",
      " 5.20290146e+11 5.20290146e+11 5.20290146e+11 5.20290146e+11\n",
      " 5.20290146e+11 5.20290146e+11 5.20290146e+11 5.20290146e+11\n",
      " 5.20290146e+11 5.20290146e+11 5.20290146e+11]\n",
      "                            OLS Regression Results                            \n",
      "==============================================================================\n",
      "Dep. Variable:          ARRIVAL_DELAY   R-squared:                       0.129\n",
      "Model:                            OLS   Adj. R-squared:                  0.129\n",
      "Method:                 Least Squares   F-statistic:                 2.974e+04\n",
      "Date:                Fri, 04 Dec 2020   Prob (F-statistic):               0.00\n",
      "Time:                        15:37:49   Log-Likelihood:            -1.4248e+07\n",
      "No. Observations:             2818553   AIC:                         2.850e+07\n",
      "Df Residuals:                 2818538   BIC:                         2.850e+07\n",
      "Df Model:                          14                                         \n",
      "Covariance Type:            nonrobust                                         \n",
      "=====================================================================================\n",
      "                        coef    std err          t      P>|t|      [0.025      0.975]\n",
      "-------------------------------------------------------------------------------------\n",
      "est_elapsed_delay     1.0811      0.002    625.712      0.000       1.078       1.085\n",
      "airline_AA           11.6103      0.075    153.952      0.000      11.462      11.758\n",
      "airline_AS            1.9043      0.132     14.436      0.000       1.646       2.163\n",
      "airline_B6           12.0192      0.107    112.694      0.000      11.810      12.228\n",
      "airline_DL            8.9603      0.060    150.007      0.000       8.843       9.077\n",
      "airline_EV           10.2778      0.071    144.548      0.000      10.138      10.417\n",
      "airline_F9           17.0566      0.185     92.433      0.000      16.695      17.418\n",
      "airline_HA           -0.2502      0.196     -1.279      0.201      -0.634       0.133\n",
      "airline_MQ           13.0048      0.098    132.601      0.000      12.813      13.197\n",
      "airline_NK           18.9130      0.163    116.072      0.000      18.594      19.232\n",
      "airline_OO            8.4084      0.071    118.232      0.000       8.269       8.548\n",
      "airline_UA           16.4840      0.078    211.627      0.000      16.331      16.637\n",
      "airline_US            6.2737      0.086     72.783      0.000       6.105       6.443\n",
      "airline_VX            9.4290      0.224     42.158      0.000       8.991       9.867\n",
      "airline_WN           11.5334      0.050    232.231      0.000      11.436      11.631\n",
      "==============================================================================\n",
      "Omnibus:                  3773725.213   Durbin-Watson:                   1.855\n",
      "Prob(Omnibus):                  0.000   Jarque-Bera (JB):       1711099782.342\n",
      "Skew:                           7.413   Prob(JB):                         0.00\n",
      "Kurtosis:                     122.792   Cond. No.                         138.\n",
      "==============================================================================\n",
      "\n",
      "Notes:\n",
      "[1] Standard Errors assume that the covariance matrix of the errors is correctly specified.\n"
     ]
    }
   ],
   "source": [
    "linear2 = LinearRegression().fit(x2, y)\n",
    "delay_predictions = linear2.predict(x2)\n",
    "print('Intercept: \\n', linear2.intercept_)\n",
    "print('Coefficients: \\n', linear2.coef_)\n",
    "\n",
    "model = sm.OLS(y, x2).fit()\n",
    "predictions = model.predict(x2) \n",
    "\n",
    "print_model = model.summary() \n",
    "print(print_model)"
   ]
  },
  {
   "cell_type": "code",
   "execution_count": 47,
   "metadata": {},
   "outputs": [
    {
     "output_type": "stream",
     "name": "stdout",
     "text": [
      "Intercept: \n",
      " 10.576133466056145\n",
      "Coefficients: \n",
      " [1.06510009]\n",
      "                                 OLS Regression Results                                \n",
      "=======================================================================================\n",
      "Dep. Variable:          ARRIVAL_DELAY   R-squared (uncentered):                   0.080\n",
      "Model:                            OLS   Adj. R-squared (uncentered):              0.080\n",
      "Method:                 Least Squares   F-statistic:                          2.465e+05\n",
      "Date:                Fri, 04 Dec 2020   Prob (F-statistic):                        0.00\n",
      "Time:                        15:13:04   Log-Likelihood:                     -1.4354e+07\n",
      "No. Observations:             2818553   AIC:                                  2.871e+07\n",
      "Df Residuals:                 2818552   BIC:                                  2.871e+07\n",
      "Df Model:                           1                                                  \n",
      "Covariance Type:            nonrobust                                                  \n",
      "=====================================================================================\n",
      "                        coef    std err          t      P>|t|      [0.025      0.975]\n",
      "-------------------------------------------------------------------------------------\n",
      "est_elapsed_delay     0.8330      0.002    496.513      0.000       0.830       0.836\n",
      "==============================================================================\n",
      "Omnibus:                  3750254.746   Durbin-Watson:                   1.734\n",
      "Prob(Omnibus):                  0.000   Jarque-Bera (JB):       1633789440.938\n",
      "Skew:                           7.337   Prob(JB):                         0.00\n",
      "Kurtosis:                     120.032   Cond. No.                         1.00\n",
      "==============================================================================\n",
      "\n",
      "Notes:\n",
      "[1] R² is computed without centering (uncentered) since the model does not contain a constant.\n",
      "[2] Standard Errors assume that the covariance matrix of the errors is correctly specified.\n"
     ]
    }
   ],
   "source": [
    "linear1 = LinearRegression().fit(x, y)\n",
    "delay_predictions = linear1.predict(x)\n",
    "print('Intercept: \\n', linear1.intercept_)\n",
    "print('Coefficients: \\n', linear1.coef_)\n",
    "\n",
    "model = sm.OLS(y, x).fit()\n",
    "predictions = model.predict(x) \n",
    "\n",
    "print_model = model.summary() # R = 1.0 so yeah that kind of ruins it\n",
    "print(print_model) "
   ]
  },
  {
   "cell_type": "code",
   "execution_count": 17,
   "metadata": {},
   "outputs": [
    {
     "output_type": "error",
     "ename": "ValueError",
     "evalue": "x and y must be the same size",
     "traceback": [
      "\u001b[1;31m---------------------------------------------------------------------------\u001b[0m",
      "\u001b[1;31mValueError\u001b[0m                                Traceback (most recent call last)",
      "\u001b[1;32m<ipython-input-17-e79909821e27>\u001b[0m in \u001b[0;36m<module>\u001b[1;34m\u001b[0m\n\u001b[1;32m----> 1\u001b[1;33m \u001b[0mplt\u001b[0m\u001b[1;33m.\u001b[0m\u001b[0mscatter\u001b[0m\u001b[1;33m(\u001b[0m\u001b[0mx\u001b[0m\u001b[1;33m,\u001b[0m \u001b[0my\u001b[0m\u001b[1;33m)\u001b[0m\u001b[1;33m\u001b[0m\u001b[1;33m\u001b[0m\u001b[0m\n\u001b[0m\u001b[0;32m      2\u001b[0m \u001b[0mplt\u001b[0m\u001b[1;33m.\u001b[0m\u001b[0mplot\u001b[0m\u001b[1;33m(\u001b[0m\u001b[0mx\u001b[0m\u001b[1;33m,\u001b[0m \u001b[0mdelay_predictions\u001b[0m\u001b[1;33m,\u001b[0m \u001b[0mcolor\u001b[0m \u001b[1;33m=\u001b[0m \u001b[1;34m'red'\u001b[0m\u001b[1;33m)\u001b[0m\u001b[1;33m\u001b[0m\u001b[1;33m\u001b[0m\u001b[0m\n\u001b[0;32m      3\u001b[0m \u001b[0mplt\u001b[0m\u001b[1;33m.\u001b[0m\u001b[0mshow\u001b[0m\u001b[1;33m(\u001b[0m\u001b[1;33m)\u001b[0m\u001b[1;33m\u001b[0m\u001b[1;33m\u001b[0m\u001b[0m\n",
      "\u001b[1;32mC:\\Programs\\Anaconda3\\lib\\site-packages\\matplotlib\\pyplot.py\u001b[0m in \u001b[0;36mscatter\u001b[1;34m(x, y, s, c, marker, cmap, norm, vmin, vmax, alpha, linewidths, verts, edgecolors, plotnonfinite, data, **kwargs)\u001b[0m\n\u001b[0;32m   2888\u001b[0m         \u001b[0mverts\u001b[0m\u001b[1;33m=\u001b[0m\u001b[0mcbook\u001b[0m\u001b[1;33m.\u001b[0m\u001b[0mdeprecation\u001b[0m\u001b[1;33m.\u001b[0m\u001b[0m_deprecated_parameter\u001b[0m\u001b[1;33m,\u001b[0m\u001b[1;33m\u001b[0m\u001b[1;33m\u001b[0m\u001b[0m\n\u001b[0;32m   2889\u001b[0m         edgecolors=None, *, plotnonfinite=False, data=None, **kwargs):\n\u001b[1;32m-> 2890\u001b[1;33m     __ret = gca().scatter(\n\u001b[0m\u001b[0;32m   2891\u001b[0m         \u001b[0mx\u001b[0m\u001b[1;33m,\u001b[0m \u001b[0my\u001b[0m\u001b[1;33m,\u001b[0m \u001b[0ms\u001b[0m\u001b[1;33m=\u001b[0m\u001b[0ms\u001b[0m\u001b[1;33m,\u001b[0m \u001b[0mc\u001b[0m\u001b[1;33m=\u001b[0m\u001b[0mc\u001b[0m\u001b[1;33m,\u001b[0m \u001b[0mmarker\u001b[0m\u001b[1;33m=\u001b[0m\u001b[0mmarker\u001b[0m\u001b[1;33m,\u001b[0m \u001b[0mcmap\u001b[0m\u001b[1;33m=\u001b[0m\u001b[0mcmap\u001b[0m\u001b[1;33m,\u001b[0m \u001b[0mnorm\u001b[0m\u001b[1;33m=\u001b[0m\u001b[0mnorm\u001b[0m\u001b[1;33m,\u001b[0m\u001b[1;33m\u001b[0m\u001b[1;33m\u001b[0m\u001b[0m\n\u001b[0;32m   2892\u001b[0m         \u001b[0mvmin\u001b[0m\u001b[1;33m=\u001b[0m\u001b[0mvmin\u001b[0m\u001b[1;33m,\u001b[0m \u001b[0mvmax\u001b[0m\u001b[1;33m=\u001b[0m\u001b[0mvmax\u001b[0m\u001b[1;33m,\u001b[0m \u001b[0malpha\u001b[0m\u001b[1;33m=\u001b[0m\u001b[0malpha\u001b[0m\u001b[1;33m,\u001b[0m \u001b[0mlinewidths\u001b[0m\u001b[1;33m=\u001b[0m\u001b[0mlinewidths\u001b[0m\u001b[1;33m,\u001b[0m\u001b[1;33m\u001b[0m\u001b[1;33m\u001b[0m\u001b[0m\n",
      "\u001b[1;32mC:\\Programs\\Anaconda3\\lib\\site-packages\\matplotlib\\__init__.py\u001b[0m in \u001b[0;36minner\u001b[1;34m(ax, data, *args, **kwargs)\u001b[0m\n\u001b[0;32m   1436\u001b[0m     \u001b[1;32mdef\u001b[0m \u001b[0minner\u001b[0m\u001b[1;33m(\u001b[0m\u001b[0max\u001b[0m\u001b[1;33m,\u001b[0m \u001b[1;33m*\u001b[0m\u001b[0margs\u001b[0m\u001b[1;33m,\u001b[0m \u001b[0mdata\u001b[0m\u001b[1;33m=\u001b[0m\u001b[1;32mNone\u001b[0m\u001b[1;33m,\u001b[0m \u001b[1;33m**\u001b[0m\u001b[0mkwargs\u001b[0m\u001b[1;33m)\u001b[0m\u001b[1;33m:\u001b[0m\u001b[1;33m\u001b[0m\u001b[1;33m\u001b[0m\u001b[0m\n\u001b[0;32m   1437\u001b[0m         \u001b[1;32mif\u001b[0m \u001b[0mdata\u001b[0m \u001b[1;32mis\u001b[0m \u001b[1;32mNone\u001b[0m\u001b[1;33m:\u001b[0m\u001b[1;33m\u001b[0m\u001b[1;33m\u001b[0m\u001b[0m\n\u001b[1;32m-> 1438\u001b[1;33m             \u001b[1;32mreturn\u001b[0m \u001b[0mfunc\u001b[0m\u001b[1;33m(\u001b[0m\u001b[0max\u001b[0m\u001b[1;33m,\u001b[0m \u001b[1;33m*\u001b[0m\u001b[0mmap\u001b[0m\u001b[1;33m(\u001b[0m\u001b[0msanitize_sequence\u001b[0m\u001b[1;33m,\u001b[0m \u001b[0margs\u001b[0m\u001b[1;33m)\u001b[0m\u001b[1;33m,\u001b[0m \u001b[1;33m**\u001b[0m\u001b[0mkwargs\u001b[0m\u001b[1;33m)\u001b[0m\u001b[1;33m\u001b[0m\u001b[1;33m\u001b[0m\u001b[0m\n\u001b[0m\u001b[0;32m   1439\u001b[0m \u001b[1;33m\u001b[0m\u001b[0m\n\u001b[0;32m   1440\u001b[0m         \u001b[0mbound\u001b[0m \u001b[1;33m=\u001b[0m \u001b[0mnew_sig\u001b[0m\u001b[1;33m.\u001b[0m\u001b[0mbind\u001b[0m\u001b[1;33m(\u001b[0m\u001b[0max\u001b[0m\u001b[1;33m,\u001b[0m \u001b[1;33m*\u001b[0m\u001b[0margs\u001b[0m\u001b[1;33m,\u001b[0m \u001b[1;33m**\u001b[0m\u001b[0mkwargs\u001b[0m\u001b[1;33m)\u001b[0m\u001b[1;33m\u001b[0m\u001b[1;33m\u001b[0m\u001b[0m\n",
      "\u001b[1;32mC:\\Programs\\Anaconda3\\lib\\site-packages\\matplotlib\\cbook\\deprecation.py\u001b[0m in \u001b[0;36mwrapper\u001b[1;34m(*inner_args, **inner_kwargs)\u001b[0m\n\u001b[0;32m    409\u001b[0m                          \u001b[1;32melse\u001b[0m \u001b[0mdeprecation_addendum\u001b[0m\u001b[1;33m,\u001b[0m\u001b[1;33m\u001b[0m\u001b[1;33m\u001b[0m\u001b[0m\n\u001b[0;32m    410\u001b[0m                 **kwargs)\n\u001b[1;32m--> 411\u001b[1;33m         \u001b[1;32mreturn\u001b[0m \u001b[0mfunc\u001b[0m\u001b[1;33m(\u001b[0m\u001b[1;33m*\u001b[0m\u001b[0minner_args\u001b[0m\u001b[1;33m,\u001b[0m \u001b[1;33m**\u001b[0m\u001b[0minner_kwargs\u001b[0m\u001b[1;33m)\u001b[0m\u001b[1;33m\u001b[0m\u001b[1;33m\u001b[0m\u001b[0m\n\u001b[0m\u001b[0;32m    412\u001b[0m \u001b[1;33m\u001b[0m\u001b[0m\n\u001b[0;32m    413\u001b[0m     \u001b[1;32mreturn\u001b[0m \u001b[0mwrapper\u001b[0m\u001b[1;33m\u001b[0m\u001b[1;33m\u001b[0m\u001b[0m\n",
      "\u001b[1;32mC:\\Programs\\Anaconda3\\lib\\site-packages\\matplotlib\\axes\\_axes.py\u001b[0m in \u001b[0;36mscatter\u001b[1;34m(self, x, y, s, c, marker, cmap, norm, vmin, vmax, alpha, linewidths, verts, edgecolors, plotnonfinite, **kwargs)\u001b[0m\n\u001b[0;32m   4439\u001b[0m         \u001b[0my\u001b[0m \u001b[1;33m=\u001b[0m \u001b[0mnp\u001b[0m\u001b[1;33m.\u001b[0m\u001b[0mma\u001b[0m\u001b[1;33m.\u001b[0m\u001b[0mravel\u001b[0m\u001b[1;33m(\u001b[0m\u001b[0my\u001b[0m\u001b[1;33m)\u001b[0m\u001b[1;33m\u001b[0m\u001b[1;33m\u001b[0m\u001b[0m\n\u001b[0;32m   4440\u001b[0m         \u001b[1;32mif\u001b[0m \u001b[0mx\u001b[0m\u001b[1;33m.\u001b[0m\u001b[0msize\u001b[0m \u001b[1;33m!=\u001b[0m \u001b[0my\u001b[0m\u001b[1;33m.\u001b[0m\u001b[0msize\u001b[0m\u001b[1;33m:\u001b[0m\u001b[1;33m\u001b[0m\u001b[1;33m\u001b[0m\u001b[0m\n\u001b[1;32m-> 4441\u001b[1;33m             \u001b[1;32mraise\u001b[0m \u001b[0mValueError\u001b[0m\u001b[1;33m(\u001b[0m\u001b[1;34m\"x and y must be the same size\"\u001b[0m\u001b[1;33m)\u001b[0m\u001b[1;33m\u001b[0m\u001b[1;33m\u001b[0m\u001b[0m\n\u001b[0m\u001b[0;32m   4442\u001b[0m \u001b[1;33m\u001b[0m\u001b[0m\n\u001b[0;32m   4443\u001b[0m         \u001b[1;32mif\u001b[0m \u001b[0ms\u001b[0m \u001b[1;32mis\u001b[0m \u001b[1;32mNone\u001b[0m\u001b[1;33m:\u001b[0m\u001b[1;33m\u001b[0m\u001b[1;33m\u001b[0m\u001b[0m\n",
      "\u001b[1;31mValueError\u001b[0m: x and y must be the same size"
     ]
    }
   ],
   "source": []
  },
  {
   "cell_type": "markdown",
   "metadata": {},
   "source": [
    "# Visualisation"
   ]
  },
  {
   "cell_type": "code",
   "execution_count": 20,
   "metadata": {},
   "outputs": [
    {
     "data": {
      "text/plain": [
       "(array([ 12748.,   3580., 271036., 373408., 292031., 370673., 326452.,\n",
       "        329872., 275315.,  70591.]),\n",
       " array([1.0000e+00, 2.4090e+02, 4.8080e+02, 7.2070e+02, 9.6060e+02,\n",
       "        1.2005e+03, 1.4404e+03, 1.6803e+03, 1.9202e+03, 2.1601e+03,\n",
       "        2.4000e+03]),\n",
       " <a list of 10 Patch objects>)"
      ]
     },
     "execution_count": 20,
     "metadata": {},
     "output_type": "execute_result"
    },
    {
     "data": {
      "image/png": "[encoded data removed]",
      "text/plain": [
       "<Figure size 432x288 with 1 Axes>"
      ]
     },
     "metadata": {
      "needs_background": "light"
     },
     "output_type": "display_data"
    }
   ],
   "source": [
    "plt.hist(flights['DEPARTURE_TIME'])"
   ]
  },
  {
   "cell_type": "code",
   "execution_count": null,
   "metadata": {},
   "outputs": [],
   "source": []
  }
 ],
 "metadata": {
  "kernelspec": {
   "display_name": "Python 3",
   "language": "python",
   "name": "python3"
  },
  "language_info": {
   "codemirror_mode": {
    "name": "ipython",
    "version": 3
   },
   "file_extension": ".py",
   "mimetype": "text/x-python",
   "name": "python",
   "nbconvert_exporter": "python",
   "pygments_lexer": "ipython3",
   "version": "3.8.5-final"
  }
 },
 "nbformat": 4,
 "nbformat_minor": 2
}